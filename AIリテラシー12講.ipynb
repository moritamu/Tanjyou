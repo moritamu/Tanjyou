{
  "nbformat": 4,
  "nbformat_minor": 0,
  "metadata": {
    "colab": {
      "name": "AIリテラシー12講",
      "provenance": [],
      "collapsed_sections": [],
      "include_colab_link": true
    },
    "kernelspec": {
      "name": "python3",
      "display_name": "Python 3"
    }
  },
  "cells": [
    {
      "cell_type": "markdown",
      "metadata": {
        "id": "view-in-github",
        "colab_type": "text"
      },
      "source": [
        "<a href=\"https://colab.research.google.com/github/moritamu/Tanjyou/blob/main/AI%E3%83%AA%E3%83%86%E3%83%A9%E3%82%B7%E3%83%BC12%E8%AC%9B.ipynb\" target=\"_parent\"><img src=\"https://colab.research.google.com/assets/colab-badge.svg\" alt=\"Open In Colab\"/></a>"
      ]
    },
    {
      "cell_type": "markdown",
      "metadata": {
        "id": "sVRGVS_ePctF"
      },
      "source": [
        "### リスト12-1"
      ]
    },
    {
      "cell_type": "code",
      "metadata": {
        "colab": {
          "base_uri": "https://localhost:8080/",
          "height": 163
        },
        "id": "3JGnJ9DSnRqs",
        "outputId": "deabcabc-f61b-4504-92ff-c6c7f6d6a40e"
      },
      "source": [
        "import pandas as pd\n",
        "customer = pd.read_excel(\"顧客情報.xlsx\")\n",
        "customer"
      ],
      "execution_count": null,
      "outputs": [
        {
          "output_type": "execute_result",
          "data": {
            "text/html": [
              "<div>\n",
              "<style scoped>\n",
              "    .dataframe tbody tr th:only-of-type {\n",
              "        vertical-align: middle;\n",
              "    }\n",
              "\n",
              "    .dataframe tbody tr th {\n",
              "        vertical-align: top;\n",
              "    }\n",
              "\n",
              "    .dataframe thead th {\n",
              "        text-align: right;\n",
              "    }\n",
              "</style>\n",
              "<table border=\"1\" class=\"dataframe\">\n",
              "  <thead>\n",
              "    <tr style=\"text-align: right;\">\n",
              "      <th></th>\n",
              "      <th>顧客番号</th>\n",
              "      <th>顧客氏名</th>\n",
              "      <th>顧客住所</th>\n",
              "      <th>顧客電話番号</th>\n",
              "      <th>顧客メールアドレス</th>\n",
              "    </tr>\n",
              "  </thead>\n",
              "  <tbody>\n",
              "    <tr>\n",
              "      <th>0</th>\n",
              "      <td>customer1</td>\n",
              "      <td>田中太郎</td>\n",
              "      <td>山口県山口市滝町1番1号</td>\n",
              "      <td>083-922-3111</td>\n",
              "      <td>tanaka@sample.com</td>\n",
              "    </tr>\n",
              "    <tr>\n",
              "      <th>1</th>\n",
              "      <td>customer2</td>\n",
              "      <td>山田花子</td>\n",
              "      <td>青森県青森市長島一丁目1-1</td>\n",
              "      <td>017-722-1111</td>\n",
              "      <td>yamada@sample.com</td>\n",
              "    </tr>\n",
              "  </tbody>\n",
              "</table>\n",
              "</div>"
            ],
            "text/plain": [
              "        顧客番号  顧客氏名            顧客住所        顧客電話番号          顧客メールアドレス\n",
              "0  customer1  田中太郎    山口県山口市滝町1番1号  083-922-3111  tanaka@sample.com\n",
              "1  customer2  山田花子  青森県青森市長島一丁目1-1  017-722-1111  yamada@sample.com"
            ]
          },
          "metadata": {
            "tags": []
          },
          "execution_count": 1
        }
      ]
    },
    {
      "cell_type": "markdown",
      "metadata": {
        "id": "I5uJVpkNeufB"
      },
      "source": [
        "### リスト12-2"
      ]
    },
    {
      "cell_type": "code",
      "metadata": {
        "colab": {
          "base_uri": "https://localhost:8080/",
          "height": 174
        },
        "id": "0tuy7Up-nd9q",
        "outputId": "53cdc47d-d630-48d2-add7-032f29d2be18"
      },
      "source": [
        "item = pd.read_excel(\"商品情報.xlsx\")\n",
        "item"
      ],
      "execution_count": null,
      "outputs": [
        {
          "output_type": "execute_result",
          "data": {
            "text/html": [
              "<div>\n",
              "<style scoped>\n",
              "    .dataframe tbody tr th:only-of-type {\n",
              "        vertical-align: middle;\n",
              "    }\n",
              "\n",
              "    .dataframe tbody tr th {\n",
              "        vertical-align: top;\n",
              "    }\n",
              "\n",
              "    .dataframe thead th {\n",
              "        text-align: right;\n",
              "    }\n",
              "</style>\n",
              "<table border=\"1\" class=\"dataframe\">\n",
              "  <thead>\n",
              "    <tr style=\"text-align: right;\">\n",
              "      <th></th>\n",
              "      <th>商品番号</th>\n",
              "      <th>商品名</th>\n",
              "      <th>単価</th>\n",
              "      <th>仕入れ先</th>\n",
              "    </tr>\n",
              "  </thead>\n",
              "  <tbody>\n",
              "    <tr>\n",
              "      <th>0</th>\n",
              "      <td>item1</td>\n",
              "      <td>パン</td>\n",
              "      <td>100</td>\n",
              "      <td>A食品</td>\n",
              "    </tr>\n",
              "    <tr>\n",
              "      <th>1</th>\n",
              "      <td>item2</td>\n",
              "      <td>コーヒー</td>\n",
              "      <td>120</td>\n",
              "      <td>B飲料</td>\n",
              "    </tr>\n",
              "    <tr>\n",
              "      <th>2</th>\n",
              "      <td>item3</td>\n",
              "      <td>サラダ</td>\n",
              "      <td>200</td>\n",
              "      <td>C農園</td>\n",
              "    </tr>\n",
              "    <tr>\n",
              "      <th>3</th>\n",
              "      <td>item4</td>\n",
              "      <td>おにぎり</td>\n",
              "      <td>150</td>\n",
              "      <td>D食品</td>\n",
              "    </tr>\n",
              "  </tbody>\n",
              "</table>\n",
              "</div>"
            ],
            "text/plain": [
              "    商品番号   商品名   単価 仕入れ先\n",
              "0  item1    パン  100  A食品\n",
              "1  item2  コーヒー  120  B飲料\n",
              "2  item3   サラダ  200  C農園\n",
              "3  item4  おにぎり  150  D食品"
            ]
          },
          "metadata": {
            "tags": []
          },
          "execution_count": 2
        }
      ]
    },
    {
      "cell_type": "markdown",
      "metadata": {
        "id": "nKtOAPLDexJK"
      },
      "source": [
        "### リスト12-3"
      ]
    },
    {
      "cell_type": "code",
      "metadata": {
        "colab": {
          "base_uri": "https://localhost:8080/",
          "height": 142
        },
        "id": "aLAemcH1lMdf",
        "outputId": "363034d0-7436-42fd-f97e-c8a31e211b8c"
      },
      "source": [
        "transaction_4 = pd.read_excel(\"4月販売情報.xlsx\")\n",
        "transaction_4"
      ],
      "execution_count": null,
      "outputs": [
        {
          "output_type": "execute_result",
          "data": {
            "text/html": [
              "<div>\n",
              "<style scoped>\n",
              "    .dataframe tbody tr th:only-of-type {\n",
              "        vertical-align: middle;\n",
              "    }\n",
              "\n",
              "    .dataframe tbody tr th {\n",
              "        vertical-align: top;\n",
              "    }\n",
              "\n",
              "    .dataframe thead th {\n",
              "        text-align: right;\n",
              "    }\n",
              "</style>\n",
              "<table border=\"1\" class=\"dataframe\">\n",
              "  <thead>\n",
              "    <tr style=\"text-align: right;\">\n",
              "      <th></th>\n",
              "      <th>販売番号</th>\n",
              "      <th>販売日</th>\n",
              "      <th>商品番号</th>\n",
              "      <th>顧客番号</th>\n",
              "    </tr>\n",
              "  </thead>\n",
              "  <tbody>\n",
              "    <tr>\n",
              "      <th>0</th>\n",
              "      <td>transaction1</td>\n",
              "      <td>2021-04-01</td>\n",
              "      <td>item1</td>\n",
              "      <td>customer1</td>\n",
              "    </tr>\n",
              "    <tr>\n",
              "      <th>1</th>\n",
              "      <td>transaction2</td>\n",
              "      <td>2021-04-02</td>\n",
              "      <td>item2</td>\n",
              "      <td>customer2</td>\n",
              "    </tr>\n",
              "    <tr>\n",
              "      <th>2</th>\n",
              "      <td>transaction3</td>\n",
              "      <td>2021-04-03</td>\n",
              "      <td>item3</td>\n",
              "      <td>customer1</td>\n",
              "    </tr>\n",
              "  </tbody>\n",
              "</table>\n",
              "</div>"
            ],
            "text/plain": [
              "           販売番号        販売日   商品番号       顧客番号\n",
              "0  transaction1 2021-04-01  item1  customer1\n",
              "1  transaction2 2021-04-02  item2  customer2\n",
              "2  transaction3 2021-04-03  item3  customer1"
            ]
          },
          "metadata": {
            "tags": []
          },
          "execution_count": 3
        }
      ]
    },
    {
      "cell_type": "markdown",
      "metadata": {
        "id": "Y9_vfX6Xe6lx"
      },
      "source": [
        "### リスト12-4"
      ]
    },
    {
      "cell_type": "code",
      "metadata": {
        "colab": {
          "base_uri": "https://localhost:8080/",
          "height": 142
        },
        "id": "SUE36D1TlW5B",
        "outputId": "e4cc84b3-ff98-4f9c-f386-bac6b99de6a8"
      },
      "source": [
        "transaction_5 = pd.read_excel(\"5月販売情報.xlsx\")\n",
        "transaction_5"
      ],
      "execution_count": null,
      "outputs": [
        {
          "output_type": "execute_result",
          "data": {
            "text/html": [
              "<div>\n",
              "<style scoped>\n",
              "    .dataframe tbody tr th:only-of-type {\n",
              "        vertical-align: middle;\n",
              "    }\n",
              "\n",
              "    .dataframe tbody tr th {\n",
              "        vertical-align: top;\n",
              "    }\n",
              "\n",
              "    .dataframe thead th {\n",
              "        text-align: right;\n",
              "    }\n",
              "</style>\n",
              "<table border=\"1\" class=\"dataframe\">\n",
              "  <thead>\n",
              "    <tr style=\"text-align: right;\">\n",
              "      <th></th>\n",
              "      <th>販売番号</th>\n",
              "      <th>販売日</th>\n",
              "      <th>商品番号</th>\n",
              "      <th>顧客番号</th>\n",
              "    </tr>\n",
              "  </thead>\n",
              "  <tbody>\n",
              "    <tr>\n",
              "      <th>0</th>\n",
              "      <td>transaction4</td>\n",
              "      <td>2021-05-01</td>\n",
              "      <td>item3</td>\n",
              "      <td>customer2</td>\n",
              "    </tr>\n",
              "    <tr>\n",
              "      <th>1</th>\n",
              "      <td>transaction5</td>\n",
              "      <td>2021-05-02</td>\n",
              "      <td>item4</td>\n",
              "      <td>customer1</td>\n",
              "    </tr>\n",
              "    <tr>\n",
              "      <th>2</th>\n",
              "      <td>transaction6</td>\n",
              "      <td>2021-05-03</td>\n",
              "      <td>item4</td>\n",
              "      <td>customer2</td>\n",
              "    </tr>\n",
              "  </tbody>\n",
              "</table>\n",
              "</div>"
            ],
            "text/plain": [
              "           販売番号        販売日   商品番号       顧客番号\n",
              "0  transaction4 2021-05-01  item3  customer2\n",
              "1  transaction5 2021-05-02  item4  customer1\n",
              "2  transaction6 2021-05-03  item4  customer2"
            ]
          },
          "metadata": {
            "tags": []
          },
          "execution_count": 4
        }
      ]
    },
    {
      "cell_type": "markdown",
      "metadata": {
        "id": "KtZuivX4e_hb"
      },
      "source": [
        "### リスト12-5"
      ]
    },
    {
      "cell_type": "code",
      "metadata": {
        "colab": {
          "base_uri": "https://localhost:8080/",
          "height": 236
        },
        "id": "5a-4eMyNnpvK",
        "outputId": "be04e7d8-5975-47da-ff4d-17185b20d396"
      },
      "source": [
        "transaction = pd.concat([transaction_4, transaction_5], ignore_index=True)\n",
        "transaction"
      ],
      "execution_count": null,
      "outputs": [
        {
          "output_type": "execute_result",
          "data": {
            "text/html": [
              "<div>\n",
              "<style scoped>\n",
              "    .dataframe tbody tr th:only-of-type {\n",
              "        vertical-align: middle;\n",
              "    }\n",
              "\n",
              "    .dataframe tbody tr th {\n",
              "        vertical-align: top;\n",
              "    }\n",
              "\n",
              "    .dataframe thead th {\n",
              "        text-align: right;\n",
              "    }\n",
              "</style>\n",
              "<table border=\"1\" class=\"dataframe\">\n",
              "  <thead>\n",
              "    <tr style=\"text-align: right;\">\n",
              "      <th></th>\n",
              "      <th>販売番号</th>\n",
              "      <th>販売日</th>\n",
              "      <th>商品番号</th>\n",
              "      <th>顧客番号</th>\n",
              "    </tr>\n",
              "  </thead>\n",
              "  <tbody>\n",
              "    <tr>\n",
              "      <th>0</th>\n",
              "      <td>transaction1</td>\n",
              "      <td>2021-04-01</td>\n",
              "      <td>item1</td>\n",
              "      <td>customer1</td>\n",
              "    </tr>\n",
              "    <tr>\n",
              "      <th>1</th>\n",
              "      <td>transaction2</td>\n",
              "      <td>2021-04-02</td>\n",
              "      <td>item2</td>\n",
              "      <td>customer2</td>\n",
              "    </tr>\n",
              "    <tr>\n",
              "      <th>2</th>\n",
              "      <td>transaction3</td>\n",
              "      <td>2021-04-03</td>\n",
              "      <td>item3</td>\n",
              "      <td>customer1</td>\n",
              "    </tr>\n",
              "    <tr>\n",
              "      <th>3</th>\n",
              "      <td>transaction4</td>\n",
              "      <td>2021-05-01</td>\n",
              "      <td>item3</td>\n",
              "      <td>customer2</td>\n",
              "    </tr>\n",
              "    <tr>\n",
              "      <th>4</th>\n",
              "      <td>transaction5</td>\n",
              "      <td>2021-05-02</td>\n",
              "      <td>item4</td>\n",
              "      <td>customer1</td>\n",
              "    </tr>\n",
              "    <tr>\n",
              "      <th>5</th>\n",
              "      <td>transaction6</td>\n",
              "      <td>2021-05-03</td>\n",
              "      <td>item4</td>\n",
              "      <td>customer2</td>\n",
              "    </tr>\n",
              "  </tbody>\n",
              "</table>\n",
              "</div>"
            ],
            "text/plain": [
              "           販売番号        販売日   商品番号       顧客番号\n",
              "0  transaction1 2021-04-01  item1  customer1\n",
              "1  transaction2 2021-04-02  item2  customer2\n",
              "2  transaction3 2021-04-03  item3  customer1\n",
              "3  transaction4 2021-05-01  item3  customer2\n",
              "4  transaction5 2021-05-02  item4  customer1\n",
              "5  transaction6 2021-05-03  item4  customer2"
            ]
          },
          "metadata": {
            "tags": []
          },
          "execution_count": 5
        }
      ]
    },
    {
      "cell_type": "markdown",
      "metadata": {
        "id": "Z7Eut_SLfHBy"
      },
      "source": [
        "### リスト12-6"
      ]
    },
    {
      "cell_type": "code",
      "metadata": {
        "colab": {
          "base_uri": "https://localhost:8080/",
          "height": 236
        },
        "id": "_YZCQ5UmouwY",
        "outputId": "05c47a0e-7bab-4cc1-edf0-334db7141aed"
      },
      "source": [
        "join_data = pd.merge(transaction, item, on=\"商品番号\")\n",
        "join_data"
      ],
      "execution_count": null,
      "outputs": [
        {
          "output_type": "execute_result",
          "data": {
            "text/html": [
              "<div>\n",
              "<style scoped>\n",
              "    .dataframe tbody tr th:only-of-type {\n",
              "        vertical-align: middle;\n",
              "    }\n",
              "\n",
              "    .dataframe tbody tr th {\n",
              "        vertical-align: top;\n",
              "    }\n",
              "\n",
              "    .dataframe thead th {\n",
              "        text-align: right;\n",
              "    }\n",
              "</style>\n",
              "<table border=\"1\" class=\"dataframe\">\n",
              "  <thead>\n",
              "    <tr style=\"text-align: right;\">\n",
              "      <th></th>\n",
              "      <th>販売番号</th>\n",
              "      <th>販売日</th>\n",
              "      <th>商品番号</th>\n",
              "      <th>顧客番号</th>\n",
              "      <th>商品名</th>\n",
              "      <th>単価</th>\n",
              "      <th>仕入れ先</th>\n",
              "    </tr>\n",
              "  </thead>\n",
              "  <tbody>\n",
              "    <tr>\n",
              "      <th>0</th>\n",
              "      <td>transaction1</td>\n",
              "      <td>2021-04-01</td>\n",
              "      <td>item1</td>\n",
              "      <td>customer1</td>\n",
              "      <td>パン</td>\n",
              "      <td>100</td>\n",
              "      <td>A食品</td>\n",
              "    </tr>\n",
              "    <tr>\n",
              "      <th>1</th>\n",
              "      <td>transaction2</td>\n",
              "      <td>2021-04-02</td>\n",
              "      <td>item2</td>\n",
              "      <td>customer2</td>\n",
              "      <td>コーヒー</td>\n",
              "      <td>120</td>\n",
              "      <td>B飲料</td>\n",
              "    </tr>\n",
              "    <tr>\n",
              "      <th>2</th>\n",
              "      <td>transaction3</td>\n",
              "      <td>2021-04-03</td>\n",
              "      <td>item3</td>\n",
              "      <td>customer1</td>\n",
              "      <td>サラダ</td>\n",
              "      <td>200</td>\n",
              "      <td>C農園</td>\n",
              "    </tr>\n",
              "    <tr>\n",
              "      <th>3</th>\n",
              "      <td>transaction4</td>\n",
              "      <td>2021-05-01</td>\n",
              "      <td>item3</td>\n",
              "      <td>customer2</td>\n",
              "      <td>サラダ</td>\n",
              "      <td>200</td>\n",
              "      <td>C農園</td>\n",
              "    </tr>\n",
              "    <tr>\n",
              "      <th>4</th>\n",
              "      <td>transaction5</td>\n",
              "      <td>2021-05-02</td>\n",
              "      <td>item4</td>\n",
              "      <td>customer1</td>\n",
              "      <td>おにぎり</td>\n",
              "      <td>150</td>\n",
              "      <td>D食品</td>\n",
              "    </tr>\n",
              "    <tr>\n",
              "      <th>5</th>\n",
              "      <td>transaction6</td>\n",
              "      <td>2021-05-03</td>\n",
              "      <td>item4</td>\n",
              "      <td>customer2</td>\n",
              "      <td>おにぎり</td>\n",
              "      <td>150</td>\n",
              "      <td>D食品</td>\n",
              "    </tr>\n",
              "  </tbody>\n",
              "</table>\n",
              "</div>"
            ],
            "text/plain": [
              "           販売番号        販売日   商品番号       顧客番号   商品名   単価 仕入れ先\n",
              "0  transaction1 2021-04-01  item1  customer1    パン  100  A食品\n",
              "1  transaction2 2021-04-02  item2  customer2  コーヒー  120  B飲料\n",
              "2  transaction3 2021-04-03  item3  customer1   サラダ  200  C農園\n",
              "3  transaction4 2021-05-01  item3  customer2   サラダ  200  C農園\n",
              "4  transaction5 2021-05-02  item4  customer1  おにぎり  150  D食品\n",
              "5  transaction6 2021-05-03  item4  customer2  おにぎり  150  D食品"
            ]
          },
          "metadata": {
            "tags": []
          },
          "execution_count": 6
        }
      ]
    },
    {
      "cell_type": "markdown",
      "metadata": {
        "id": "N9i4WyIRfMaU"
      },
      "source": [
        "### リスト12-7"
      ]
    },
    {
      "cell_type": "code",
      "metadata": {
        "colab": {
          "base_uri": "https://localhost:8080/",
          "height": 1000
        },
        "id": "4dS14duKpTxY",
        "outputId": "ca657d93-2151-4ca8-9bf8-d0813f225501"
      },
      "source": [
        "join_data = pd.merge(join_data, customer, on=\"顧客番号\")\n",
        "join_data = join_data.sort_values('販売日', ascending=True)\n",
        "join_data = join_data.reset_index(drop=True)\n",
        "join_data"
      ],
      "execution_count": null,
      "outputs": [
        {
          "output_type": "execute_result",
          "data": {
            "text/html": [
              "<div>\n",
              "<style scoped>\n",
              "    .dataframe tbody tr th:only-of-type {\n",
              "        vertical-align: middle;\n",
              "    }\n",
              "\n",
              "    .dataframe tbody tr th {\n",
              "        vertical-align: top;\n",
              "    }\n",
              "\n",
              "    .dataframe thead th {\n",
              "        text-align: right;\n",
              "    }\n",
              "</style>\n",
              "<table border=\"1\" class=\"dataframe\">\n",
              "  <thead>\n",
              "    <tr style=\"text-align: right;\">\n",
              "      <th></th>\n",
              "      <th>販売番号</th>\n",
              "      <th>販売日</th>\n",
              "      <th>商品番号</th>\n",
              "      <th>顧客番号</th>\n",
              "      <th>商品名</th>\n",
              "      <th>単価</th>\n",
              "      <th>仕入れ先</th>\n",
              "      <th>顧客氏名</th>\n",
              "      <th>顧客住所</th>\n",
              "      <th>顧客電話番号</th>\n",
              "      <th>顧客メールアドレス</th>\n",
              "    </tr>\n",
              "  </thead>\n",
              "  <tbody>\n",
              "    <tr>\n",
              "      <th>0</th>\n",
              "      <td>transaction1</td>\n",
              "      <td>2021-04-01</td>\n",
              "      <td>item1</td>\n",
              "      <td>customer1</td>\n",
              "      <td>パン</td>\n",
              "      <td>100</td>\n",
              "      <td>A食品</td>\n",
              "      <td>田中太郎</td>\n",
              "      <td>山口県山口市滝町1番1号</td>\n",
              "      <td>083-922-3111</td>\n",
              "      <td>tanaka@sample.com</td>\n",
              "    </tr>\n",
              "    <tr>\n",
              "      <th>1</th>\n",
              "      <td>transaction2</td>\n",
              "      <td>2021-04-02</td>\n",
              "      <td>item2</td>\n",
              "      <td>customer2</td>\n",
              "      <td>コーヒー</td>\n",
              "      <td>120</td>\n",
              "      <td>B飲料</td>\n",
              "      <td>山田花子</td>\n",
              "      <td>青森県青森市長島一丁目1-1</td>\n",
              "      <td>017-722-1111</td>\n",
              "      <td>yamada@sample.com</td>\n",
              "    </tr>\n",
              "    <tr>\n",
              "      <th>2</th>\n",
              "      <td>transaction3</td>\n",
              "      <td>2021-04-03</td>\n",
              "      <td>item3</td>\n",
              "      <td>customer1</td>\n",
              "      <td>サラダ</td>\n",
              "      <td>200</td>\n",
              "      <td>C農園</td>\n",
              "      <td>田中太郎</td>\n",
              "      <td>山口県山口市滝町1番1号</td>\n",
              "      <td>083-922-3111</td>\n",
              "      <td>tanaka@sample.com</td>\n",
              "    </tr>\n",
              "    <tr>\n",
              "      <th>3</th>\n",
              "      <td>transaction4</td>\n",
              "      <td>2021-05-01</td>\n",
              "      <td>item3</td>\n",
              "      <td>customer2</td>\n",
              "      <td>サラダ</td>\n",
              "      <td>200</td>\n",
              "      <td>C農園</td>\n",
              "      <td>山田花子</td>\n",
              "      <td>青森県青森市長島一丁目1-1</td>\n",
              "      <td>017-722-1111</td>\n",
              "      <td>yamada@sample.com</td>\n",
              "    </tr>\n",
              "    <tr>\n",
              "      <th>4</th>\n",
              "      <td>transaction5</td>\n",
              "      <td>2021-05-02</td>\n",
              "      <td>item4</td>\n",
              "      <td>customer1</td>\n",
              "      <td>おにぎり</td>\n",
              "      <td>150</td>\n",
              "      <td>D食品</td>\n",
              "      <td>田中太郎</td>\n",
              "      <td>山口県山口市滝町1番1号</td>\n",
              "      <td>083-922-3111</td>\n",
              "      <td>tanaka@sample.com</td>\n",
              "    </tr>\n",
              "    <tr>\n",
              "      <th>5</th>\n",
              "      <td>transaction6</td>\n",
              "      <td>2021-05-03</td>\n",
              "      <td>item4</td>\n",
              "      <td>customer2</td>\n",
              "      <td>おにぎり</td>\n",
              "      <td>150</td>\n",
              "      <td>D食品</td>\n",
              "      <td>山田花子</td>\n",
              "      <td>青森県青森市長島一丁目1-1</td>\n",
              "      <td>017-722-1111</td>\n",
              "      <td>yamada@sample.com</td>\n",
              "    </tr>\n",
              "  </tbody>\n",
              "</table>\n",
              "</div>"
            ],
            "text/plain": [
              "           販売番号        販売日  ...        顧客電話番号          顧客メールアドレス\n",
              "0  transaction1 2021-04-01  ...  083-922-3111  tanaka@sample.com\n",
              "1  transaction2 2021-04-02  ...  017-722-1111  yamada@sample.com\n",
              "2  transaction3 2021-04-03  ...  083-922-3111  tanaka@sample.com\n",
              "3  transaction4 2021-05-01  ...  017-722-1111  yamada@sample.com\n",
              "4  transaction5 2021-05-02  ...  083-922-3111  tanaka@sample.com\n",
              "5  transaction6 2021-05-03  ...  017-722-1111  yamada@sample.com\n",
              "\n",
              "[6 rows x 11 columns]"
            ]
          },
          "metadata": {
            "tags": []
          },
          "execution_count": 7
        }
      ]
    },
    {
      "cell_type": "markdown",
      "metadata": {
        "id": "DijTobmPPVWY"
      },
      "source": [
        "### リスト12-8"
      ]
    },
    {
      "cell_type": "code",
      "metadata": {
        "id": "0Vj2i2zx_oec",
        "colab": {
          "base_uri": "https://localhost:8080/",
          "height": 267
        },
        "outputId": "5f7c72a3-5141-43d5-b1e0-af4d0d277427"
      },
      "source": [
        "import pandas as pd\n",
        "uriage_data = pd.read_excel(\"クレンジング前.xlsx\")\n",
        "uriage_data"
      ],
      "execution_count": null,
      "outputs": [
        {
          "output_type": "execute_result",
          "data": {
            "text/html": [
              "<div>\n",
              "<style scoped>\n",
              "    .dataframe tbody tr th:only-of-type {\n",
              "        vertical-align: middle;\n",
              "    }\n",
              "\n",
              "    .dataframe tbody tr th {\n",
              "        vertical-align: top;\n",
              "    }\n",
              "\n",
              "    .dataframe thead th {\n",
              "        text-align: right;\n",
              "    }\n",
              "</style>\n",
              "<table border=\"1\" class=\"dataframe\">\n",
              "  <thead>\n",
              "    <tr style=\"text-align: right;\">\n",
              "      <th></th>\n",
              "      <th>日付</th>\n",
              "      <th>曜日</th>\n",
              "      <th>商品名</th>\n",
              "      <th>価格</th>\n",
              "      <th>個数</th>\n",
              "      <th>顧客の性別</th>\n",
              "      <th>顧客の年齢</th>\n",
              "    </tr>\n",
              "  </thead>\n",
              "  <tbody>\n",
              "    <tr>\n",
              "      <th>0</th>\n",
              "      <td>2021-04-01</td>\n",
              "      <td>木</td>\n",
              "      <td>ノート</td>\n",
              "      <td>100</td>\n",
              "      <td>1</td>\n",
              "      <td>男性</td>\n",
              "      <td>24.0</td>\n",
              "    </tr>\n",
              "    <tr>\n",
              "      <th>1</th>\n",
              "      <td>2021-04-02</td>\n",
              "      <td>金</td>\n",
              "      <td>鉛筆</td>\n",
              "      <td>80</td>\n",
              "      <td>5</td>\n",
              "      <td>女性</td>\n",
              "      <td>16.0</td>\n",
              "    </tr>\n",
              "    <tr>\n",
              "      <th>2</th>\n",
              "      <td>2021-04-03</td>\n",
              "      <td>土</td>\n",
              "      <td>マジック</td>\n",
              "      <td>200</td>\n",
              "      <td>1</td>\n",
              "      <td>男性</td>\n",
              "      <td>15.0</td>\n",
              "    </tr>\n",
              "    <tr>\n",
              "      <th>3</th>\n",
              "      <td>2021-04-04</td>\n",
              "      <td>NaN</td>\n",
              "      <td>マジック</td>\n",
              "      <td>200</td>\n",
              "      <td>2</td>\n",
              "      <td>女性</td>\n",
              "      <td>9.0</td>\n",
              "    </tr>\n",
              "    <tr>\n",
              "      <th>4</th>\n",
              "      <td>2021-04-05</td>\n",
              "      <td>月</td>\n",
              "      <td>ノート</td>\n",
              "      <td>100</td>\n",
              "      <td>2</td>\n",
              "      <td>女性</td>\n",
              "      <td>NaN</td>\n",
              "    </tr>\n",
              "    <tr>\n",
              "      <th>5</th>\n",
              "      <td>2021-04-06</td>\n",
              "      <td>火</td>\n",
              "      <td>ハサミ</td>\n",
              "      <td>400</td>\n",
              "      <td>1</td>\n",
              "      <td>NaN</td>\n",
              "      <td>14.0</td>\n",
              "    </tr>\n",
              "    <tr>\n",
              "      <th>6</th>\n",
              "      <td>2021-04-07</td>\n",
              "      <td>水</td>\n",
              "      <td>はさみ</td>\n",
              "      <td>400</td>\n",
              "      <td>2</td>\n",
              "      <td>女性</td>\n",
              "      <td>19.0</td>\n",
              "    </tr>\n",
              "  </tbody>\n",
              "</table>\n",
              "</div>"
            ],
            "text/plain": [
              "          日付   曜日   商品名   価格  個数 顧客の性別  顧客の年齢\n",
              "0 2021-04-01    木   ノート  100   1    男性   24.0\n",
              "1 2021-04-02    金    鉛筆   80   5    女性   16.0\n",
              "2 2021-04-03    土  マジック  200   1    男性   15.0\n",
              "3 2021-04-04  NaN  マジック  200   2    女性    9.0\n",
              "4 2021-04-05    月   ノート  100   2    女性    NaN\n",
              "5 2021-04-06    火   ハサミ  400   1   NaN   14.0\n",
              "6 2021-04-07    水   はさみ  400   2    女性   19.0"
            ]
          },
          "metadata": {
            "tags": []
          },
          "execution_count": 9
        }
      ]
    },
    {
      "cell_type": "markdown",
      "metadata": {
        "id": "lLQl2M6Rfd4U"
      },
      "source": [
        "### リスト12-9"
      ]
    },
    {
      "cell_type": "code",
      "metadata": {
        "id": "k4FWLn_NAO7m",
        "colab": {
          "base_uri": "https://localhost:8080/",
          "height": 267
        },
        "outputId": "c82a41f5-a335-4c8e-c6fe-3b2a657da9c2"
      },
      "source": [
        "uriage_data.loc[3, \"曜日\"] = \"日\"\n",
        "uriage_data"
      ],
      "execution_count": null,
      "outputs": [
        {
          "output_type": "execute_result",
          "data": {
            "text/html": [
              "<div>\n",
              "<style scoped>\n",
              "    .dataframe tbody tr th:only-of-type {\n",
              "        vertical-align: middle;\n",
              "    }\n",
              "\n",
              "    .dataframe tbody tr th {\n",
              "        vertical-align: top;\n",
              "    }\n",
              "\n",
              "    .dataframe thead th {\n",
              "        text-align: right;\n",
              "    }\n",
              "</style>\n",
              "<table border=\"1\" class=\"dataframe\">\n",
              "  <thead>\n",
              "    <tr style=\"text-align: right;\">\n",
              "      <th></th>\n",
              "      <th>日付</th>\n",
              "      <th>曜日</th>\n",
              "      <th>商品名</th>\n",
              "      <th>価格</th>\n",
              "      <th>個数</th>\n",
              "      <th>顧客の性別</th>\n",
              "      <th>顧客の年齢</th>\n",
              "    </tr>\n",
              "  </thead>\n",
              "  <tbody>\n",
              "    <tr>\n",
              "      <th>0</th>\n",
              "      <td>2021-04-01</td>\n",
              "      <td>木</td>\n",
              "      <td>ノート</td>\n",
              "      <td>100</td>\n",
              "      <td>1</td>\n",
              "      <td>男性</td>\n",
              "      <td>24.0</td>\n",
              "    </tr>\n",
              "    <tr>\n",
              "      <th>1</th>\n",
              "      <td>2021-04-02</td>\n",
              "      <td>金</td>\n",
              "      <td>鉛筆</td>\n",
              "      <td>80</td>\n",
              "      <td>5</td>\n",
              "      <td>女性</td>\n",
              "      <td>16.0</td>\n",
              "    </tr>\n",
              "    <tr>\n",
              "      <th>2</th>\n",
              "      <td>2021-04-03</td>\n",
              "      <td>土</td>\n",
              "      <td>マジック</td>\n",
              "      <td>200</td>\n",
              "      <td>1</td>\n",
              "      <td>男性</td>\n",
              "      <td>15.0</td>\n",
              "    </tr>\n",
              "    <tr>\n",
              "      <th>3</th>\n",
              "      <td>2021-04-04</td>\n",
              "      <td>日</td>\n",
              "      <td>マジック</td>\n",
              "      <td>200</td>\n",
              "      <td>2</td>\n",
              "      <td>女性</td>\n",
              "      <td>9.0</td>\n",
              "    </tr>\n",
              "    <tr>\n",
              "      <th>4</th>\n",
              "      <td>2021-04-05</td>\n",
              "      <td>月</td>\n",
              "      <td>ノート</td>\n",
              "      <td>100</td>\n",
              "      <td>2</td>\n",
              "      <td>女性</td>\n",
              "      <td>NaN</td>\n",
              "    </tr>\n",
              "    <tr>\n",
              "      <th>5</th>\n",
              "      <td>2021-04-06</td>\n",
              "      <td>火</td>\n",
              "      <td>ハサミ</td>\n",
              "      <td>400</td>\n",
              "      <td>1</td>\n",
              "      <td>NaN</td>\n",
              "      <td>14.0</td>\n",
              "    </tr>\n",
              "    <tr>\n",
              "      <th>6</th>\n",
              "      <td>2021-04-07</td>\n",
              "      <td>水</td>\n",
              "      <td>はさみ</td>\n",
              "      <td>400</td>\n",
              "      <td>2</td>\n",
              "      <td>女性</td>\n",
              "      <td>19.0</td>\n",
              "    </tr>\n",
              "  </tbody>\n",
              "</table>\n",
              "</div>"
            ],
            "text/plain": [
              "          日付 曜日   商品名   価格  個数 顧客の性別  顧客の年齢\n",
              "0 2021-04-01  木   ノート  100   1    男性   24.0\n",
              "1 2021-04-02  金    鉛筆   80   5    女性   16.0\n",
              "2 2021-04-03  土  マジック  200   1    男性   15.0\n",
              "3 2021-04-04  日  マジック  200   2    女性    9.0\n",
              "4 2021-04-05  月   ノート  100   2    女性    NaN\n",
              "5 2021-04-06  火   ハサミ  400   1   NaN   14.0\n",
              "6 2021-04-07  水   はさみ  400   2    女性   19.0"
            ]
          },
          "metadata": {
            "tags": []
          },
          "execution_count": 10
        }
      ]
    },
    {
      "cell_type": "markdown",
      "metadata": {
        "id": "Ev7j_9nsfi7U"
      },
      "source": [
        "### リスト12-10"
      ]
    },
    {
      "cell_type": "code",
      "metadata": {
        "id": "jA75hA4gJHa5",
        "colab": {
          "base_uri": "https://localhost:8080/",
          "height": 267
        },
        "outputId": "d11039c0-c5a0-46bc-ed4a-d50405b59ed5"
      },
      "source": [
        "uriage_data[\"商品名\"] = uriage_data[\"商品名\"].str.replace(\"はさみ\", \"ハサミ\")\n",
        "uriage_data"
      ],
      "execution_count": null,
      "outputs": [
        {
          "output_type": "execute_result",
          "data": {
            "text/html": [
              "<div>\n",
              "<style scoped>\n",
              "    .dataframe tbody tr th:only-of-type {\n",
              "        vertical-align: middle;\n",
              "    }\n",
              "\n",
              "    .dataframe tbody tr th {\n",
              "        vertical-align: top;\n",
              "    }\n",
              "\n",
              "    .dataframe thead th {\n",
              "        text-align: right;\n",
              "    }\n",
              "</style>\n",
              "<table border=\"1\" class=\"dataframe\">\n",
              "  <thead>\n",
              "    <tr style=\"text-align: right;\">\n",
              "      <th></th>\n",
              "      <th>日付</th>\n",
              "      <th>曜日</th>\n",
              "      <th>商品名</th>\n",
              "      <th>価格</th>\n",
              "      <th>個数</th>\n",
              "      <th>顧客の性別</th>\n",
              "      <th>顧客の年齢</th>\n",
              "    </tr>\n",
              "  </thead>\n",
              "  <tbody>\n",
              "    <tr>\n",
              "      <th>0</th>\n",
              "      <td>2021-04-01</td>\n",
              "      <td>木</td>\n",
              "      <td>ノート</td>\n",
              "      <td>100</td>\n",
              "      <td>1</td>\n",
              "      <td>男性</td>\n",
              "      <td>24.0</td>\n",
              "    </tr>\n",
              "    <tr>\n",
              "      <th>1</th>\n",
              "      <td>2021-04-02</td>\n",
              "      <td>金</td>\n",
              "      <td>鉛筆</td>\n",
              "      <td>80</td>\n",
              "      <td>5</td>\n",
              "      <td>女性</td>\n",
              "      <td>16.0</td>\n",
              "    </tr>\n",
              "    <tr>\n",
              "      <th>2</th>\n",
              "      <td>2021-04-03</td>\n",
              "      <td>土</td>\n",
              "      <td>マジック</td>\n",
              "      <td>200</td>\n",
              "      <td>1</td>\n",
              "      <td>男性</td>\n",
              "      <td>15.0</td>\n",
              "    </tr>\n",
              "    <tr>\n",
              "      <th>3</th>\n",
              "      <td>2021-04-04</td>\n",
              "      <td>日</td>\n",
              "      <td>マジック</td>\n",
              "      <td>200</td>\n",
              "      <td>2</td>\n",
              "      <td>女性</td>\n",
              "      <td>9.0</td>\n",
              "    </tr>\n",
              "    <tr>\n",
              "      <th>4</th>\n",
              "      <td>2021-04-05</td>\n",
              "      <td>月</td>\n",
              "      <td>ノート</td>\n",
              "      <td>100</td>\n",
              "      <td>2</td>\n",
              "      <td>女性</td>\n",
              "      <td>NaN</td>\n",
              "    </tr>\n",
              "    <tr>\n",
              "      <th>5</th>\n",
              "      <td>2021-04-06</td>\n",
              "      <td>火</td>\n",
              "      <td>ハサミ</td>\n",
              "      <td>400</td>\n",
              "      <td>1</td>\n",
              "      <td>NaN</td>\n",
              "      <td>14.0</td>\n",
              "    </tr>\n",
              "    <tr>\n",
              "      <th>6</th>\n",
              "      <td>2021-04-07</td>\n",
              "      <td>水</td>\n",
              "      <td>ハサミ</td>\n",
              "      <td>400</td>\n",
              "      <td>2</td>\n",
              "      <td>女性</td>\n",
              "      <td>19.0</td>\n",
              "    </tr>\n",
              "  </tbody>\n",
              "</table>\n",
              "</div>"
            ],
            "text/plain": [
              "          日付 曜日   商品名   価格  個数 顧客の性別  顧客の年齢\n",
              "0 2021-04-01  木   ノート  100   1    男性   24.0\n",
              "1 2021-04-02  金    鉛筆   80   5    女性   16.0\n",
              "2 2021-04-03  土  マジック  200   1    男性   15.0\n",
              "3 2021-04-04  日  マジック  200   2    女性    9.0\n",
              "4 2021-04-05  月   ノート  100   2    女性    NaN\n",
              "5 2021-04-06  火   ハサミ  400   1   NaN   14.0\n",
              "6 2021-04-07  水   ハサミ  400   2    女性   19.0"
            ]
          },
          "metadata": {
            "tags": []
          },
          "execution_count": 11
        }
      ]
    },
    {
      "cell_type": "markdown",
      "metadata": {
        "id": "ows1r-refnUr"
      },
      "source": [
        "### リスト12-11"
      ]
    },
    {
      "cell_type": "code",
      "metadata": {
        "id": "CT28yeTVLgLi",
        "colab": {
          "base_uri": "https://localhost:8080/"
        },
        "outputId": "1a95127e-2903-49e8-cb0d-44338f859d44"
      },
      "source": [
        "uriage_data[\"顧客の性別\"].mode()"
      ],
      "execution_count": null,
      "outputs": [
        {
          "output_type": "execute_result",
          "data": {
            "text/plain": [
              "0    女性\n",
              "dtype: object"
            ]
          },
          "metadata": {
            "tags": []
          },
          "execution_count": 12
        }
      ]
    },
    {
      "cell_type": "markdown",
      "metadata": {
        "id": "hWjb_b1GfrSs"
      },
      "source": [
        "### リスト12-12"
      ]
    },
    {
      "cell_type": "code",
      "metadata": {
        "id": "GaNXfdGNMCQ5",
        "colab": {
          "base_uri": "https://localhost:8080/",
          "height": 268
        },
        "outputId": "9ac39ce0-a90a-48dc-c445-62b3d3426d96"
      },
      "source": [
        "uriage_data[\"顧客の性別\"] = uriage_data[\"顧客の性別\"].fillna(\"女性\")\n",
        "uriage_data"
      ],
      "execution_count": null,
      "outputs": [
        {
          "output_type": "execute_result",
          "data": {
            "text/html": [
              "<div>\n",
              "<style scoped>\n",
              "    .dataframe tbody tr th:only-of-type {\n",
              "        vertical-align: middle;\n",
              "    }\n",
              "\n",
              "    .dataframe tbody tr th {\n",
              "        vertical-align: top;\n",
              "    }\n",
              "\n",
              "    .dataframe thead th {\n",
              "        text-align: right;\n",
              "    }\n",
              "</style>\n",
              "<table border=\"1\" class=\"dataframe\">\n",
              "  <thead>\n",
              "    <tr style=\"text-align: right;\">\n",
              "      <th></th>\n",
              "      <th>日付</th>\n",
              "      <th>曜日</th>\n",
              "      <th>商品名</th>\n",
              "      <th>価格</th>\n",
              "      <th>個数</th>\n",
              "      <th>顧客の性別</th>\n",
              "      <th>顧客の年齢</th>\n",
              "    </tr>\n",
              "  </thead>\n",
              "  <tbody>\n",
              "    <tr>\n",
              "      <th>0</th>\n",
              "      <td>2021-04-01</td>\n",
              "      <td>木</td>\n",
              "      <td>ノート</td>\n",
              "      <td>100</td>\n",
              "      <td>1</td>\n",
              "      <td>男性</td>\n",
              "      <td>24.0</td>\n",
              "    </tr>\n",
              "    <tr>\n",
              "      <th>1</th>\n",
              "      <td>2021-04-02</td>\n",
              "      <td>金</td>\n",
              "      <td>鉛筆</td>\n",
              "      <td>80</td>\n",
              "      <td>5</td>\n",
              "      <td>女性</td>\n",
              "      <td>16.0</td>\n",
              "    </tr>\n",
              "    <tr>\n",
              "      <th>2</th>\n",
              "      <td>2021-04-03</td>\n",
              "      <td>土</td>\n",
              "      <td>マジック</td>\n",
              "      <td>200</td>\n",
              "      <td>1</td>\n",
              "      <td>男性</td>\n",
              "      <td>15.0</td>\n",
              "    </tr>\n",
              "    <tr>\n",
              "      <th>3</th>\n",
              "      <td>2021-04-04</td>\n",
              "      <td>日</td>\n",
              "      <td>マジック</td>\n",
              "      <td>200</td>\n",
              "      <td>2</td>\n",
              "      <td>女性</td>\n",
              "      <td>9.0</td>\n",
              "    </tr>\n",
              "    <tr>\n",
              "      <th>4</th>\n",
              "      <td>2021-04-05</td>\n",
              "      <td>月</td>\n",
              "      <td>ノート</td>\n",
              "      <td>100</td>\n",
              "      <td>2</td>\n",
              "      <td>女性</td>\n",
              "      <td>NaN</td>\n",
              "    </tr>\n",
              "    <tr>\n",
              "      <th>5</th>\n",
              "      <td>2021-04-06</td>\n",
              "      <td>火</td>\n",
              "      <td>ハサミ</td>\n",
              "      <td>400</td>\n",
              "      <td>1</td>\n",
              "      <td>女性</td>\n",
              "      <td>14.0</td>\n",
              "    </tr>\n",
              "    <tr>\n",
              "      <th>6</th>\n",
              "      <td>2021-04-07</td>\n",
              "      <td>水</td>\n",
              "      <td>ハサミ</td>\n",
              "      <td>400</td>\n",
              "      <td>2</td>\n",
              "      <td>女性</td>\n",
              "      <td>19.0</td>\n",
              "    </tr>\n",
              "  </tbody>\n",
              "</table>\n",
              "</div>"
            ],
            "text/plain": [
              "          日付 曜日   商品名   価格  個数 顧客の性別  顧客の年齢\n",
              "0 2021-04-01  木   ノート  100   1    男性   24.0\n",
              "1 2021-04-02  金    鉛筆   80   5    女性   16.0\n",
              "2 2021-04-03  土  マジック  200   1    男性   15.0\n",
              "3 2021-04-04  日  マジック  200   2    女性    9.0\n",
              "4 2021-04-05  月   ノート  100   2    女性    NaN\n",
              "5 2021-04-06  火   ハサミ  400   1    女性   14.0\n",
              "6 2021-04-07  水   ハサミ  400   2    女性   19.0"
            ]
          },
          "metadata": {
            "tags": []
          },
          "execution_count": 11
        }
      ]
    },
    {
      "cell_type": "markdown",
      "metadata": {
        "id": "Srlh67ZCfuJ9"
      },
      "source": [
        "### リスト12-13"
      ]
    },
    {
      "cell_type": "code",
      "metadata": {
        "id": "aK5JrahFOE_H",
        "colab": {
          "base_uri": "https://localhost:8080/"
        },
        "outputId": "c7c0faee-f3a5-415f-b387-1f1cf1f0679a"
      },
      "source": [
        "uriage_data[\"顧客の年齢\"].mean()"
      ],
      "execution_count": null,
      "outputs": [
        {
          "output_type": "execute_result",
          "data": {
            "text/plain": [
              "16.166666666666668"
            ]
          },
          "metadata": {
            "tags": []
          },
          "execution_count": 12
        }
      ]
    },
    {
      "cell_type": "markdown",
      "metadata": {
        "id": "ALMjyZVTfzBS"
      },
      "source": [
        "### リスト12-14"
      ]
    },
    {
      "cell_type": "code",
      "metadata": {
        "id": "UCsJ9QF_OKk_",
        "colab": {
          "base_uri": "https://localhost:8080/",
          "height": 267
        },
        "outputId": "a5a2a7d1-caae-4adb-9c29-b4a7db9447b8"
      },
      "source": [
        "uriage_data[\"顧客の年齢\"]=uriage_data[\"顧客の年齢\"].fillna(16)\n",
        "uriage_data"
      ],
      "execution_count": null,
      "outputs": [
        {
          "output_type": "execute_result",
          "data": {
            "text/html": [
              "<div>\n",
              "<style scoped>\n",
              "    .dataframe tbody tr th:only-of-type {\n",
              "        vertical-align: middle;\n",
              "    }\n",
              "\n",
              "    .dataframe tbody tr th {\n",
              "        vertical-align: top;\n",
              "    }\n",
              "\n",
              "    .dataframe thead th {\n",
              "        text-align: right;\n",
              "    }\n",
              "</style>\n",
              "<table border=\"1\" class=\"dataframe\">\n",
              "  <thead>\n",
              "    <tr style=\"text-align: right;\">\n",
              "      <th></th>\n",
              "      <th>日付</th>\n",
              "      <th>曜日</th>\n",
              "      <th>商品名</th>\n",
              "      <th>価格</th>\n",
              "      <th>個数</th>\n",
              "      <th>顧客の性別</th>\n",
              "      <th>顧客の年齢</th>\n",
              "    </tr>\n",
              "  </thead>\n",
              "  <tbody>\n",
              "    <tr>\n",
              "      <th>0</th>\n",
              "      <td>2021-04-01</td>\n",
              "      <td>木</td>\n",
              "      <td>ノート</td>\n",
              "      <td>100</td>\n",
              "      <td>1</td>\n",
              "      <td>男性</td>\n",
              "      <td>24.0</td>\n",
              "    </tr>\n",
              "    <tr>\n",
              "      <th>1</th>\n",
              "      <td>2021-04-02</td>\n",
              "      <td>金</td>\n",
              "      <td>鉛筆</td>\n",
              "      <td>80</td>\n",
              "      <td>5</td>\n",
              "      <td>女性</td>\n",
              "      <td>16.0</td>\n",
              "    </tr>\n",
              "    <tr>\n",
              "      <th>2</th>\n",
              "      <td>2021-04-03</td>\n",
              "      <td>土</td>\n",
              "      <td>マジック</td>\n",
              "      <td>200</td>\n",
              "      <td>1</td>\n",
              "      <td>男性</td>\n",
              "      <td>15.0</td>\n",
              "    </tr>\n",
              "    <tr>\n",
              "      <th>3</th>\n",
              "      <td>2021-04-04</td>\n",
              "      <td>日</td>\n",
              "      <td>マジック</td>\n",
              "      <td>200</td>\n",
              "      <td>2</td>\n",
              "      <td>女性</td>\n",
              "      <td>9.0</td>\n",
              "    </tr>\n",
              "    <tr>\n",
              "      <th>4</th>\n",
              "      <td>2021-04-05</td>\n",
              "      <td>月</td>\n",
              "      <td>ノート</td>\n",
              "      <td>100</td>\n",
              "      <td>2</td>\n",
              "      <td>女性</td>\n",
              "      <td>16.0</td>\n",
              "    </tr>\n",
              "    <tr>\n",
              "      <th>5</th>\n",
              "      <td>2021-04-06</td>\n",
              "      <td>火</td>\n",
              "      <td>ハサミ</td>\n",
              "      <td>400</td>\n",
              "      <td>1</td>\n",
              "      <td>NaN</td>\n",
              "      <td>14.0</td>\n",
              "    </tr>\n",
              "    <tr>\n",
              "      <th>6</th>\n",
              "      <td>2021-04-07</td>\n",
              "      <td>水</td>\n",
              "      <td>ハサミ</td>\n",
              "      <td>400</td>\n",
              "      <td>2</td>\n",
              "      <td>女性</td>\n",
              "      <td>19.0</td>\n",
              "    </tr>\n",
              "  </tbody>\n",
              "</table>\n",
              "</div>"
            ],
            "text/plain": [
              "          日付 曜日   商品名   価格  個数 顧客の性別  顧客の年齢\n",
              "0 2021-04-01  木   ノート  100   1    男性   24.0\n",
              "1 2021-04-02  金    鉛筆   80   5    女性   16.0\n",
              "2 2021-04-03  土  マジック  200   1    男性   15.0\n",
              "3 2021-04-04  日  マジック  200   2    女性    9.0\n",
              "4 2021-04-05  月   ノート  100   2    女性   16.0\n",
              "5 2021-04-06  火   ハサミ  400   1   NaN   14.0\n",
              "6 2021-04-07  水   ハサミ  400   2    女性   19.0"
            ]
          },
          "metadata": {
            "tags": []
          },
          "execution_count": 13
        }
      ]
    }
  ]
}