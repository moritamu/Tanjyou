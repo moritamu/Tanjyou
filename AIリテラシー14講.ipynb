{
  "nbformat": 4,
  "nbformat_minor": 0,
  "metadata": {
    "colab": {
      "name": "AIリテラシー14講",
      "provenance": [],
      "collapsed_sections": [],
      "include_colab_link": true
    },
    "kernelspec": {
      "name": "python3",
      "display_name": "Python 3"
    }
  },
  "cells": [
    {
      "cell_type": "markdown",
      "metadata": {
        "id": "view-in-github",
        "colab_type": "text"
      },
      "source": [
        "<a href=\"https://colab.research.google.com/github/moritamu/Tanjyou/blob/main/AI%E3%83%AA%E3%83%86%E3%83%A9%E3%82%B7%E3%83%BC14%E8%AC%9B.ipynb\" target=\"_parent\"><img src=\"https://colab.research.google.com/assets/colab-badge.svg\" alt=\"Open In Colab\"/></a>"
      ]
    },
    {
      "cell_type": "markdown",
      "metadata": {
        "id": "Jo8j92XzqxcD"
      },
      "source": [
        "### リスト14-1"
      ]
    },
    {
      "cell_type": "code",
      "metadata": {
        "id": "YuZ7vwgnZNiB",
        "colab": {
          "base_uri": "https://localhost:8080/",
          "height": 441
        },
        "outputId": "7abe6e45-5d15-42f2-b41c-13e50f6ab41d"
      },
      "source": [
        "from sklearn.datasets import load_wine\n",
        "wine = load_wine()\n",
        "\n",
        "import pandas as pd\n",
        "df = pd.DataFrame(wine.data, columns = wine.feature_names)\n",
        "\n",
        "df['class'] = wine.target \n",
        "df"
      ],
      "execution_count": null,
      "outputs": [
        {
          "output_type": "execute_result",
          "data": {
            "text/html": [
              "<div>\n",
              "<style scoped>\n",
              "    .dataframe tbody tr th:only-of-type {\n",
              "        vertical-align: middle;\n",
              "    }\n",
              "\n",
              "    .dataframe tbody tr th {\n",
              "        vertical-align: top;\n",
              "    }\n",
              "\n",
              "    .dataframe thead th {\n",
              "        text-align: right;\n",
              "    }\n",
              "</style>\n",
              "<table border=\"1\" class=\"dataframe\">\n",
              "  <thead>\n",
              "    <tr style=\"text-align: right;\">\n",
              "      <th></th>\n",
              "      <th>alcohol</th>\n",
              "      <th>malic_acid</th>\n",
              "      <th>ash</th>\n",
              "      <th>alcalinity_of_ash</th>\n",
              "      <th>magnesium</th>\n",
              "      <th>total_phenols</th>\n",
              "      <th>flavanoids</th>\n",
              "      <th>nonflavanoid_phenols</th>\n",
              "      <th>proanthocyanins</th>\n",
              "      <th>color_intensity</th>\n",
              "      <th>hue</th>\n",
              "      <th>od280/od315_of_diluted_wines</th>\n",
              "      <th>proline</th>\n",
              "      <th>class</th>\n",
              "    </tr>\n",
              "  </thead>\n",
              "  <tbody>\n",
              "    <tr>\n",
              "      <th>0</th>\n",
              "      <td>14.23</td>\n",
              "      <td>1.71</td>\n",
              "      <td>2.43</td>\n",
              "      <td>15.6</td>\n",
              "      <td>127.0</td>\n",
              "      <td>2.80</td>\n",
              "      <td>3.06</td>\n",
              "      <td>0.28</td>\n",
              "      <td>2.29</td>\n",
              "      <td>5.64</td>\n",
              "      <td>1.04</td>\n",
              "      <td>3.92</td>\n",
              "      <td>1065.0</td>\n",
              "      <td>0</td>\n",
              "    </tr>\n",
              "    <tr>\n",
              "      <th>1</th>\n",
              "      <td>13.20</td>\n",
              "      <td>1.78</td>\n",
              "      <td>2.14</td>\n",
              "      <td>11.2</td>\n",
              "      <td>100.0</td>\n",
              "      <td>2.65</td>\n",
              "      <td>2.76</td>\n",
              "      <td>0.26</td>\n",
              "      <td>1.28</td>\n",
              "      <td>4.38</td>\n",
              "      <td>1.05</td>\n",
              "      <td>3.40</td>\n",
              "      <td>1050.0</td>\n",
              "      <td>0</td>\n",
              "    </tr>\n",
              "    <tr>\n",
              "      <th>2</th>\n",
              "      <td>13.16</td>\n",
              "      <td>2.36</td>\n",
              "      <td>2.67</td>\n",
              "      <td>18.6</td>\n",
              "      <td>101.0</td>\n",
              "      <td>2.80</td>\n",
              "      <td>3.24</td>\n",
              "      <td>0.30</td>\n",
              "      <td>2.81</td>\n",
              "      <td>5.68</td>\n",
              "      <td>1.03</td>\n",
              "      <td>3.17</td>\n",
              "      <td>1185.0</td>\n",
              "      <td>0</td>\n",
              "    </tr>\n",
              "    <tr>\n",
              "      <th>3</th>\n",
              "      <td>14.37</td>\n",
              "      <td>1.95</td>\n",
              "      <td>2.50</td>\n",
              "      <td>16.8</td>\n",
              "      <td>113.0</td>\n",
              "      <td>3.85</td>\n",
              "      <td>3.49</td>\n",
              "      <td>0.24</td>\n",
              "      <td>2.18</td>\n",
              "      <td>7.80</td>\n",
              "      <td>0.86</td>\n",
              "      <td>3.45</td>\n",
              "      <td>1480.0</td>\n",
              "      <td>0</td>\n",
              "    </tr>\n",
              "    <tr>\n",
              "      <th>4</th>\n",
              "      <td>13.24</td>\n",
              "      <td>2.59</td>\n",
              "      <td>2.87</td>\n",
              "      <td>21.0</td>\n",
              "      <td>118.0</td>\n",
              "      <td>2.80</td>\n",
              "      <td>2.69</td>\n",
              "      <td>0.39</td>\n",
              "      <td>1.82</td>\n",
              "      <td>4.32</td>\n",
              "      <td>1.04</td>\n",
              "      <td>2.93</td>\n",
              "      <td>735.0</td>\n",
              "      <td>0</td>\n",
              "    </tr>\n",
              "    <tr>\n",
              "      <th>...</th>\n",
              "      <td>...</td>\n",
              "      <td>...</td>\n",
              "      <td>...</td>\n",
              "      <td>...</td>\n",
              "      <td>...</td>\n",
              "      <td>...</td>\n",
              "      <td>...</td>\n",
              "      <td>...</td>\n",
              "      <td>...</td>\n",
              "      <td>...</td>\n",
              "      <td>...</td>\n",
              "      <td>...</td>\n",
              "      <td>...</td>\n",
              "      <td>...</td>\n",
              "    </tr>\n",
              "    <tr>\n",
              "      <th>173</th>\n",
              "      <td>13.71</td>\n",
              "      <td>5.65</td>\n",
              "      <td>2.45</td>\n",
              "      <td>20.5</td>\n",
              "      <td>95.0</td>\n",
              "      <td>1.68</td>\n",
              "      <td>0.61</td>\n",
              "      <td>0.52</td>\n",
              "      <td>1.06</td>\n",
              "      <td>7.70</td>\n",
              "      <td>0.64</td>\n",
              "      <td>1.74</td>\n",
              "      <td>740.0</td>\n",
              "      <td>2</td>\n",
              "    </tr>\n",
              "    <tr>\n",
              "      <th>174</th>\n",
              "      <td>13.40</td>\n",
              "      <td>3.91</td>\n",
              "      <td>2.48</td>\n",
              "      <td>23.0</td>\n",
              "      <td>102.0</td>\n",
              "      <td>1.80</td>\n",
              "      <td>0.75</td>\n",
              "      <td>0.43</td>\n",
              "      <td>1.41</td>\n",
              "      <td>7.30</td>\n",
              "      <td>0.70</td>\n",
              "      <td>1.56</td>\n",
              "      <td>750.0</td>\n",
              "      <td>2</td>\n",
              "    </tr>\n",
              "    <tr>\n",
              "      <th>175</th>\n",
              "      <td>13.27</td>\n",
              "      <td>4.28</td>\n",
              "      <td>2.26</td>\n",
              "      <td>20.0</td>\n",
              "      <td>120.0</td>\n",
              "      <td>1.59</td>\n",
              "      <td>0.69</td>\n",
              "      <td>0.43</td>\n",
              "      <td>1.35</td>\n",
              "      <td>10.20</td>\n",
              "      <td>0.59</td>\n",
              "      <td>1.56</td>\n",
              "      <td>835.0</td>\n",
              "      <td>2</td>\n",
              "    </tr>\n",
              "    <tr>\n",
              "      <th>176</th>\n",
              "      <td>13.17</td>\n",
              "      <td>2.59</td>\n",
              "      <td>2.37</td>\n",
              "      <td>20.0</td>\n",
              "      <td>120.0</td>\n",
              "      <td>1.65</td>\n",
              "      <td>0.68</td>\n",
              "      <td>0.53</td>\n",
              "      <td>1.46</td>\n",
              "      <td>9.30</td>\n",
              "      <td>0.60</td>\n",
              "      <td>1.62</td>\n",
              "      <td>840.0</td>\n",
              "      <td>2</td>\n",
              "    </tr>\n",
              "    <tr>\n",
              "      <th>177</th>\n",
              "      <td>14.13</td>\n",
              "      <td>4.10</td>\n",
              "      <td>2.74</td>\n",
              "      <td>24.5</td>\n",
              "      <td>96.0</td>\n",
              "      <td>2.05</td>\n",
              "      <td>0.76</td>\n",
              "      <td>0.56</td>\n",
              "      <td>1.35</td>\n",
              "      <td>9.20</td>\n",
              "      <td>0.61</td>\n",
              "      <td>1.60</td>\n",
              "      <td>560.0</td>\n",
              "      <td>2</td>\n",
              "    </tr>\n",
              "  </tbody>\n",
              "</table>\n",
              "<p>178 rows × 14 columns</p>\n",
              "</div>"
            ],
            "text/plain": [
              "     alcohol  malic_acid   ash  ...  od280/od315_of_diluted_wines  proline  class\n",
              "0      14.23        1.71  2.43  ...                          3.92   1065.0      0\n",
              "1      13.20        1.78  2.14  ...                          3.40   1050.0      0\n",
              "2      13.16        2.36  2.67  ...                          3.17   1185.0      0\n",
              "3      14.37        1.95  2.50  ...                          3.45   1480.0      0\n",
              "4      13.24        2.59  2.87  ...                          2.93    735.0      0\n",
              "..       ...         ...   ...  ...                           ...      ...    ...\n",
              "173    13.71        5.65  2.45  ...                          1.74    740.0      2\n",
              "174    13.40        3.91  2.48  ...                          1.56    750.0      2\n",
              "175    13.27        4.28  2.26  ...                          1.56    835.0      2\n",
              "176    13.17        2.59  2.37  ...                          1.62    840.0      2\n",
              "177    14.13        4.10  2.74  ...                          1.60    560.0      2\n",
              "\n",
              "[178 rows x 14 columns]"
            ]
          },
          "metadata": {
            "tags": []
          },
          "execution_count": 1
        }
      ]
    },
    {
      "cell_type": "markdown",
      "metadata": {
        "id": "Swg8JegShqOS"
      },
      "source": [
        "### リスト14-2"
      ]
    },
    {
      "cell_type": "code",
      "metadata": {
        "id": "lBgFEWJtZNiG"
      },
      "source": [
        "x = df.drop(['class'], axis = 1)\n",
        "y = df['class']\n",
        "\n",
        "from sklearn.model_selection import train_test_split\n",
        "x_train, x_test, y_train, y_test = train_test_split(\n",
        "    x, y, train_size = 0.7, test_size = 0.3, random_state = 0)  "
      ],
      "execution_count": null,
      "outputs": []
    },
    {
      "cell_type": "markdown",
      "metadata": {
        "id": "aN8dPM3xhsTp"
      },
      "source": [
        "### リスト14-3"
      ]
    },
    {
      "cell_type": "code",
      "metadata": {
        "id": "5voYDNL_ZNiK",
        "colab": {
          "base_uri": "https://localhost:8080/"
        },
        "outputId": "1745d43e-0d42-43b5-fd66-c95c9bbe75ac"
      },
      "source": [
        "from sklearn.ensemble import RandomForestClassifier\n",
        "model = RandomForestClassifier()\n",
        "model.fit(x_train, y_train)\n",
        "model.predict(x_test)"
      ],
      "execution_count": null,
      "outputs": [
        {
          "output_type": "execute_result",
          "data": {
            "text/plain": [
              "array([0, 2, 1, 0, 1, 1, 0, 2, 1, 1, 2, 2, 0, 1, 2, 1, 0, 0, 2, 0, 0, 0,\n",
              "       0, 1, 1, 1, 1, 1, 1, 2, 0, 0, 1, 0, 0, 0, 2, 1, 1, 2, 0, 0, 1, 1,\n",
              "       1, 0, 2, 1, 2, 0, 2, 2, 0, 2])"
            ]
          },
          "metadata": {
            "tags": []
          },
          "execution_count": 3
        }
      ]
    },
    {
      "cell_type": "markdown",
      "metadata": {
        "id": "R2U8zP0thvKx"
      },
      "source": [
        "### リスト14-4"
      ]
    },
    {
      "cell_type": "code",
      "metadata": {
        "id": "RGPBv-TIZNiT",
        "colab": {
          "base_uri": "https://localhost:8080/"
        },
        "outputId": "b3227ae1-bbe1-44ce-8a17-41ad5e0cb553"
      },
      "source": [
        "print('正解率(train):{:.3f}'.format(model.score(x_train, y_train)))\n",
        "print('正解率(test):{:.3f}'.format(model.score(x_test, y_test)))"
      ],
      "execution_count": null,
      "outputs": [
        {
          "output_type": "stream",
          "text": [
            "正解率(train):1.000\n",
            "正解率(test):0.963\n"
          ],
          "name": "stdout"
        }
      ]
    },
    {
      "cell_type": "markdown",
      "metadata": {
        "id": "5nnhFdgsMyyY"
      },
      "source": [
        "### リスト14-5"
      ]
    },
    {
      "cell_type": "code",
      "metadata": {
        "colab": {
          "base_uri": "https://localhost:8080/",
          "height": 225
        },
        "id": "vUGsc-rECb3_",
        "outputId": "2f428835-eaed-44af-a16e-742acbb45aaa"
      },
      "source": [
        "from sklearn.datasets import load_boston\n",
        "boston = load_boston()\n",
        "\n",
        "import pandas as pd\n",
        "df = pd.DataFrame(boston.data, columns = boston.feature_names)\n",
        "\n",
        "df['MEDV'] = boston.target \n",
        "df.head()"
      ],
      "execution_count": null,
      "outputs": [
        {
          "output_type": "execute_result",
          "data": {
            "text/html": [
              "<div>\n",
              "<style scoped>\n",
              "    .dataframe tbody tr th:only-of-type {\n",
              "        vertical-align: middle;\n",
              "    }\n",
              "\n",
              "    .dataframe tbody tr th {\n",
              "        vertical-align: top;\n",
              "    }\n",
              "\n",
              "    .dataframe thead th {\n",
              "        text-align: right;\n",
              "    }\n",
              "</style>\n",
              "<table border=\"1\" class=\"dataframe\">\n",
              "  <thead>\n",
              "    <tr style=\"text-align: right;\">\n",
              "      <th></th>\n",
              "      <th>CRIM</th>\n",
              "      <th>ZN</th>\n",
              "      <th>INDUS</th>\n",
              "      <th>CHAS</th>\n",
              "      <th>NOX</th>\n",
              "      <th>RM</th>\n",
              "      <th>AGE</th>\n",
              "      <th>DIS</th>\n",
              "      <th>RAD</th>\n",
              "      <th>TAX</th>\n",
              "      <th>PTRATIO</th>\n",
              "      <th>B</th>\n",
              "      <th>LSTAT</th>\n",
              "      <th>MEDV</th>\n",
              "    </tr>\n",
              "  </thead>\n",
              "  <tbody>\n",
              "    <tr>\n",
              "      <th>0</th>\n",
              "      <td>0.00632</td>\n",
              "      <td>18.0</td>\n",
              "      <td>2.31</td>\n",
              "      <td>0.0</td>\n",
              "      <td>0.538</td>\n",
              "      <td>6.575</td>\n",
              "      <td>65.2</td>\n",
              "      <td>4.0900</td>\n",
              "      <td>1.0</td>\n",
              "      <td>296.0</td>\n",
              "      <td>15.3</td>\n",
              "      <td>396.90</td>\n",
              "      <td>4.98</td>\n",
              "      <td>24.0</td>\n",
              "    </tr>\n",
              "    <tr>\n",
              "      <th>1</th>\n",
              "      <td>0.02731</td>\n",
              "      <td>0.0</td>\n",
              "      <td>7.07</td>\n",
              "      <td>0.0</td>\n",
              "      <td>0.469</td>\n",
              "      <td>6.421</td>\n",
              "      <td>78.9</td>\n",
              "      <td>4.9671</td>\n",
              "      <td>2.0</td>\n",
              "      <td>242.0</td>\n",
              "      <td>17.8</td>\n",
              "      <td>396.90</td>\n",
              "      <td>9.14</td>\n",
              "      <td>21.6</td>\n",
              "    </tr>\n",
              "    <tr>\n",
              "      <th>2</th>\n",
              "      <td>0.02729</td>\n",
              "      <td>0.0</td>\n",
              "      <td>7.07</td>\n",
              "      <td>0.0</td>\n",
              "      <td>0.469</td>\n",
              "      <td>7.185</td>\n",
              "      <td>61.1</td>\n",
              "      <td>4.9671</td>\n",
              "      <td>2.0</td>\n",
              "      <td>242.0</td>\n",
              "      <td>17.8</td>\n",
              "      <td>392.83</td>\n",
              "      <td>4.03</td>\n",
              "      <td>34.7</td>\n",
              "    </tr>\n",
              "    <tr>\n",
              "      <th>3</th>\n",
              "      <td>0.03237</td>\n",
              "      <td>0.0</td>\n",
              "      <td>2.18</td>\n",
              "      <td>0.0</td>\n",
              "      <td>0.458</td>\n",
              "      <td>6.998</td>\n",
              "      <td>45.8</td>\n",
              "      <td>6.0622</td>\n",
              "      <td>3.0</td>\n",
              "      <td>222.0</td>\n",
              "      <td>18.7</td>\n",
              "      <td>394.63</td>\n",
              "      <td>2.94</td>\n",
              "      <td>33.4</td>\n",
              "    </tr>\n",
              "    <tr>\n",
              "      <th>4</th>\n",
              "      <td>0.06905</td>\n",
              "      <td>0.0</td>\n",
              "      <td>2.18</td>\n",
              "      <td>0.0</td>\n",
              "      <td>0.458</td>\n",
              "      <td>7.147</td>\n",
              "      <td>54.2</td>\n",
              "      <td>6.0622</td>\n",
              "      <td>3.0</td>\n",
              "      <td>222.0</td>\n",
              "      <td>18.7</td>\n",
              "      <td>396.90</td>\n",
              "      <td>5.33</td>\n",
              "      <td>36.2</td>\n",
              "    </tr>\n",
              "  </tbody>\n",
              "</table>\n",
              "</div>"
            ],
            "text/plain": [
              "      CRIM    ZN  INDUS  CHAS    NOX  ...    TAX  PTRATIO       B  LSTAT  MEDV\n",
              "0  0.00632  18.0   2.31   0.0  0.538  ...  296.0     15.3  396.90   4.98  24.0\n",
              "1  0.02731   0.0   7.07   0.0  0.469  ...  242.0     17.8  396.90   9.14  21.6\n",
              "2  0.02729   0.0   7.07   0.0  0.469  ...  242.0     17.8  392.83   4.03  34.7\n",
              "3  0.03237   0.0   2.18   0.0  0.458  ...  222.0     18.7  394.63   2.94  33.4\n",
              "4  0.06905   0.0   2.18   0.0  0.458  ...  222.0     18.7  396.90   5.33  36.2\n",
              "\n",
              "[5 rows x 14 columns]"
            ]
          },
          "metadata": {
            "tags": []
          },
          "execution_count": 5
        }
      ]
    },
    {
      "cell_type": "markdown",
      "metadata": {
        "id": "F2qtT0_lh2Ja"
      },
      "source": [
        "### リスト14-6"
      ]
    },
    {
      "cell_type": "code",
      "metadata": {
        "id": "Vt0zLHgSCsRv"
      },
      "source": [
        "x = df[['RM']]\n",
        "y = df['MEDV']\n",
        "\n",
        "from sklearn.model_selection import train_test_split\n",
        "x_train, x_test, y_train, y_test = train_test_split(\n",
        "    x, y, train_size = 0.7, test_size = 0.3, random_state = 0) "
      ],
      "execution_count": null,
      "outputs": []
    },
    {
      "cell_type": "markdown",
      "metadata": {
        "id": "bfNCEv0rh4Bq"
      },
      "source": [
        "### リスト14-7"
      ]
    },
    {
      "cell_type": "code",
      "metadata": {
        "colab": {
          "base_uri": "https://localhost:8080/"
        },
        "id": "OEkuP7K7CsR4",
        "outputId": "a817d8bf-e621-47a2-e44e-9973c4383586"
      },
      "source": [
        "from sklearn.linear_model import LinearRegression\n",
        "model = LinearRegression()\n",
        "model.fit(x_train, y_train)\n",
        "print('intercept = ', model.intercept_)\n",
        "print(pd.DataFrame({\"Name\":x_train.columns,\n",
        "                    \"Coefficients\":model.coef_}).sort_values(by='Coefficients'))"
      ],
      "execution_count": null,
      "outputs": [
        {
          "output_type": "stream",
          "text": [
            "intercept =  -35.99434897818352\n",
            "  Name  Coefficients\n",
            "0   RM      9.311328\n"
          ],
          "name": "stdout"
        }
      ]
    },
    {
      "cell_type": "markdown",
      "metadata": {
        "id": "BnAoRQgUh7U5"
      },
      "source": [
        "### リスト14-8"
      ]
    },
    {
      "cell_type": "code",
      "metadata": {
        "colab": {
          "base_uri": "https://localhost:8080/",
          "height": 295
        },
        "id": "e62sUVlqGfbX",
        "outputId": "76144369-292e-47c2-edc2-cd88aafc4998"
      },
      "source": [
        "import matplotlib.pyplot as plt\n",
        "plt.scatter(x_train, y_train, color = 'blue')        \n",
        "plt.plot(x_train, model.predict(x_train), color = 'red') \n",
        "plt.title('Regression Line')               \n",
        "plt.xlabel('Average number of rooms [RM]') \n",
        "plt.ylabel('Prices in $1000\\'s [MEDV]')    \n",
        "plt.grid()                                 \n",
        "plt.show()  "
      ],
      "execution_count": null,
      "outputs": [
        {
          "output_type": "display_data",
          "data": {
            "image/png": "[encoded data removed]",
            "text/plain": [
              "<Figure size 432x288 with 1 Axes>"
            ]
          },
          "metadata": {
            "tags": [],
            "needs_background": "light"
          }
        }
      ]
    },
    {
      "cell_type": "markdown",
      "metadata": {
        "id": "xWyR1qNyh-sK"
      },
      "source": [
        "### リスト14-9"
      ]
    },
    {
      "cell_type": "code",
      "metadata": {
        "colab": {
          "base_uri": "https://localhost:8080/"
        },
        "id": "pUWoGz4vDOFf",
        "outputId": "754f7f08-3c30-4376-e8ea-7fb92b0c218e"
      },
      "source": [
        "from sklearn.metrics import r2_score\n",
        "print('r^2 (train): ', r2_score(y_train, model.predict(x_train)))\n",
        "print('r^2 (test): ', r2_score(y_test, model.predict(x_test)))"
      ],
      "execution_count": null,
      "outputs": [
        {
          "output_type": "stream",
          "text": [
            "r^2 (train):  0.5026497630040827\n",
            "r^2 (test):  0.43514364832115193\n"
          ],
          "name": "stdout"
        }
      ]
    },
    {
      "cell_type": "markdown",
      "metadata": {
        "id": "2L0ARmdVRTTH"
      },
      "source": [
        "### リスト14-10"
      ]
    },
    {
      "cell_type": "code",
      "metadata": {
        "colab": {
          "base_uri": "https://localhost:8080/",
          "height": 421
        },
        "id": "cweDY6ZdRa1f",
        "outputId": "be938e21-b221-4db9-cacc-5914c123c806"
      },
      "source": [
        "import pandas as pd\n",
        "df = pd.read_csv('basket_data.csv')\n",
        "df"
      ],
      "execution_count": null,
      "outputs": [
        {
          "output_type": "execute_result",
          "data": {
            "text/html": [
              "<div>\n",
              "<style scoped>\n",
              "    .dataframe tbody tr th:only-of-type {\n",
              "        vertical-align: middle;\n",
              "    }\n",
              "\n",
              "    .dataframe tbody tr th {\n",
              "        vertical-align: top;\n",
              "    }\n",
              "\n",
              "    .dataframe thead th {\n",
              "        text-align: right;\n",
              "    }\n",
              "</style>\n",
              "<table border=\"1\" class=\"dataframe\">\n",
              "  <thead>\n",
              "    <tr style=\"text-align: right;\">\n",
              "      <th></th>\n",
              "      <th>date</th>\n",
              "      <th>customer_id</th>\n",
              "      <th>item_name</th>\n",
              "    </tr>\n",
              "  </thead>\n",
              "  <tbody>\n",
              "    <tr>\n",
              "      <th>0</th>\n",
              "      <td>2000/1/1</td>\n",
              "      <td>1</td>\n",
              "      <td>yogurt</td>\n",
              "    </tr>\n",
              "    <tr>\n",
              "      <th>1</th>\n",
              "      <td>2000/1/1</td>\n",
              "      <td>1</td>\n",
              "      <td>pork</td>\n",
              "    </tr>\n",
              "    <tr>\n",
              "      <th>2</th>\n",
              "      <td>2000/1/1</td>\n",
              "      <td>1</td>\n",
              "      <td>sandwich bags</td>\n",
              "    </tr>\n",
              "    <tr>\n",
              "      <th>3</th>\n",
              "      <td>2000/1/1</td>\n",
              "      <td>1</td>\n",
              "      <td>lunch meat</td>\n",
              "    </tr>\n",
              "    <tr>\n",
              "      <th>4</th>\n",
              "      <td>2000/1/1</td>\n",
              "      <td>1</td>\n",
              "      <td>all- purpose</td>\n",
              "    </tr>\n",
              "    <tr>\n",
              "      <th>...</th>\n",
              "      <td>...</td>\n",
              "      <td>...</td>\n",
              "      <td>...</td>\n",
              "    </tr>\n",
              "    <tr>\n",
              "      <th>22338</th>\n",
              "      <td>2002/2/26</td>\n",
              "      <td>1139</td>\n",
              "      <td>soda</td>\n",
              "    </tr>\n",
              "    <tr>\n",
              "      <th>22339</th>\n",
              "      <td>2002/2/26</td>\n",
              "      <td>1139</td>\n",
              "      <td>laundry detergent</td>\n",
              "    </tr>\n",
              "    <tr>\n",
              "      <th>22340</th>\n",
              "      <td>2002/2/26</td>\n",
              "      <td>1139</td>\n",
              "      <td>vegetables</td>\n",
              "    </tr>\n",
              "    <tr>\n",
              "      <th>22341</th>\n",
              "      <td>2002/2/26</td>\n",
              "      <td>1139</td>\n",
              "      <td>shampoo</td>\n",
              "    </tr>\n",
              "    <tr>\n",
              "      <th>22342</th>\n",
              "      <td>2002/2/26</td>\n",
              "      <td>1139</td>\n",
              "      <td>vegetables</td>\n",
              "    </tr>\n",
              "  </tbody>\n",
              "</table>\n",
              "<p>22343 rows × 3 columns</p>\n",
              "</div>"
            ],
            "text/plain": [
              "            date  customer_id          item_name\n",
              "0       2000/1/1            1             yogurt\n",
              "1       2000/1/1            1               pork\n",
              "2       2000/1/1            1      sandwich bags\n",
              "3       2000/1/1            1         lunch meat\n",
              "4       2000/1/1            1       all- purpose\n",
              "...          ...          ...                ...\n",
              "22338  2002/2/26         1139               soda\n",
              "22339  2002/2/26         1139  laundry detergent\n",
              "22340  2002/2/26         1139         vegetables\n",
              "22341  2002/2/26         1139            shampoo\n",
              "22342  2002/2/26         1139         vegetables\n",
              "\n",
              "[22343 rows x 3 columns]"
            ]
          },
          "metadata": {
            "tags": []
          },
          "execution_count": 12
        }
      ]
    },
    {
      "cell_type": "markdown",
      "metadata": {
        "id": "CYLpjWRwiJeK"
      },
      "source": [
        "### リスト14-11"
      ]
    },
    {
      "cell_type": "code",
      "metadata": {
        "colab": {
          "base_uri": "https://localhost:8080/"
        },
        "id": "g5aR4gWtZekd",
        "outputId": "61ae2041-53cf-477a-81d9-a871453bc6b4"
      },
      "source": [
        "dataset = df.groupby('customer_id')['item_name'].apply(list)\n",
        "dataset"
      ],
      "execution_count": null,
      "outputs": [
        {
          "output_type": "execute_result",
          "data": {
            "text/plain": [
              "customer_id\n",
              "1       [yogurt, pork, sandwich bags, lunch meat, all-...\n",
              "2       [toilet paper, shampoo, hand soap, waffles, ve...\n",
              "3       [soda, pork, soap, ice cream, toilet paper, di...\n",
              "4       [cereals, juice, lunch meat, soda, toilet pape...\n",
              "5       [sandwich loaves, pasta, tortillas, mixes, han...\n",
              "                              ...                        \n",
              "1135    [sugar, beef, sandwich bags, hand soap, paper ...\n",
              "1136    [coffee/tea, dinner rolls, lunch meat, spaghet...\n",
              "1137    [beef, lunch meat, eggs, poultry, vegetables, ...\n",
              "1138    [sandwich bags, ketchup, milk, poultry, cheese...\n",
              "1139    [soda, laundry detergent, vegetables, shampoo,...\n",
              "Name: item_name, Length: 1139, dtype: object"
            ]
          },
          "metadata": {
            "tags": []
          },
          "execution_count": 13
        }
      ]
    },
    {
      "cell_type": "markdown",
      "metadata": {
        "id": "lGYxbp2hiNol"
      },
      "source": [
        "### リスト14-12"
      ]
    },
    {
      "cell_type": "code",
      "metadata": {
        "id": "DlWNCFFtab4w",
        "colab": {
          "base_uri": "https://localhost:8080/"
        },
        "outputId": "7fc190ac-e082-429a-d4e6-a1b91c901683"
      },
      "source": [
        "!pip install mlxtend"
      ],
      "execution_count": null,
      "outputs": [
        {
          "output_type": "stream",
          "text": [
            "Requirement already satisfied: mlxtend in /usr/local/lib/python3.7/dist-packages (0.14.0)\n",
            "Requirement already satisfied: pandas>=0.17.1 in /usr/local/lib/python3.7/dist-packages (from mlxtend) (1.1.5)\n",
            "Requirement already satisfied: setuptools in /usr/local/lib/python3.7/dist-packages (from mlxtend) (56.0.0)\n",
            "Requirement already satisfied: matplotlib>=1.5.1 in /usr/local/lib/python3.7/dist-packages (from mlxtend) (3.2.2)\n",
            "Requirement already satisfied: scipy>=0.17 in /usr/local/lib/python3.7/dist-packages (from mlxtend) (1.4.1)\n",
            "Requirement already satisfied: numpy>=1.10.4 in /usr/local/lib/python3.7/dist-packages (from mlxtend) (1.19.5)\n",
            "Requirement already satisfied: scikit-learn>=0.18 in /usr/local/lib/python3.7/dist-packages (from mlxtend) (0.22.2.post1)\n",
            "Requirement already satisfied: pytz>=2017.2 in /usr/local/lib/python3.7/dist-packages (from pandas>=0.17.1->mlxtend) (2018.9)\n",
            "Requirement already satisfied: python-dateutil>=2.7.3 in /usr/local/lib/python3.7/dist-packages (from pandas>=0.17.1->mlxtend) (2.8.1)\n",
            "Requirement already satisfied: pyparsing!=2.0.4,!=2.1.2,!=2.1.6,>=2.0.1 in /usr/local/lib/python3.7/dist-packages (from matplotlib>=1.5.1->mlxtend) (2.4.7)\n",
            "Requirement already satisfied: kiwisolver>=1.0.1 in /usr/local/lib/python3.7/dist-packages (from matplotlib>=1.5.1->mlxtend) (1.3.1)\n",
            "Requirement already satisfied: cycler>=0.10 in /usr/local/lib/python3.7/dist-packages (from matplotlib>=1.5.1->mlxtend) (0.10.0)\n",
            "Requirement already satisfied: joblib>=0.11 in /usr/local/lib/python3.7/dist-packages (from scikit-learn>=0.18->mlxtend) (1.0.1)\n",
            "Requirement already satisfied: six>=1.5 in /usr/local/lib/python3.7/dist-packages (from python-dateutil>=2.7.3->pandas>=0.17.1->mlxtend) (1.15.0)\n"
          ],
          "name": "stdout"
        }
      ]
    },
    {
      "cell_type": "markdown",
      "metadata": {
        "id": "5yH0kvBuiXtl"
      },
      "source": [
        "### リスト14-13"
      ]
    },
    {
      "cell_type": "code",
      "metadata": {
        "colab": {
          "base_uri": "https://localhost:8080/",
          "height": 421
        },
        "id": "qKznbyscaYV4",
        "outputId": "1caa806e-d762-43a4-e5f7-5420f7396429"
      },
      "source": [
        "from mlxtend.preprocessing import TransactionEncoder\n",
        "from mlxtend.frequent_patterns import apriori\n",
        "te = TransactionEncoder()\n",
        "te_ary = te.fit(dataset).transform(dataset)\n",
        "df2 = pd.DataFrame(te_ary, columns=te.columns_)\n",
        "frequent_itemsets = apriori(df2, min_support=0.04, use_colnames=True)\n",
        "\n",
        "frequent_itemsets"
      ],
      "execution_count": null,
      "outputs": [
        {
          "output_type": "execute_result",
          "data": {
            "text/html": [
              "<div>\n",
              "<style scoped>\n",
              "    .dataframe tbody tr th:only-of-type {\n",
              "        vertical-align: middle;\n",
              "    }\n",
              "\n",
              "    .dataframe tbody tr th {\n",
              "        vertical-align: top;\n",
              "    }\n",
              "\n",
              "    .dataframe thead th {\n",
              "        text-align: right;\n",
              "    }\n",
              "</style>\n",
              "<table border=\"1\" class=\"dataframe\">\n",
              "  <thead>\n",
              "    <tr style=\"text-align: right;\">\n",
              "      <th></th>\n",
              "      <th>support</th>\n",
              "      <th>itemsets</th>\n",
              "    </tr>\n",
              "  </thead>\n",
              "  <tbody>\n",
              "    <tr>\n",
              "      <th>0</th>\n",
              "      <td>0.374890</td>\n",
              "      <td>(all- purpose)</td>\n",
              "    </tr>\n",
              "    <tr>\n",
              "      <th>1</th>\n",
              "      <td>0.384548</td>\n",
              "      <td>(aluminum foil)</td>\n",
              "    </tr>\n",
              "    <tr>\n",
              "      <th>2</th>\n",
              "      <td>0.385426</td>\n",
              "      <td>(bagels)</td>\n",
              "    </tr>\n",
              "    <tr>\n",
              "      <th>3</th>\n",
              "      <td>0.374890</td>\n",
              "      <td>(beef)</td>\n",
              "    </tr>\n",
              "    <tr>\n",
              "      <th>4</th>\n",
              "      <td>0.367867</td>\n",
              "      <td>(butter)</td>\n",
              "    </tr>\n",
              "    <tr>\n",
              "      <th>...</th>\n",
              "      <td>...</td>\n",
              "      <td>...</td>\n",
              "    </tr>\n",
              "    <tr>\n",
              "      <th>19600</th>\n",
              "      <td>0.040386</td>\n",
              "      <td>(laundry detergent, poultry, vegetables, spagh...</td>\n",
              "    </tr>\n",
              "    <tr>\n",
              "      <th>19601</th>\n",
              "      <td>0.042142</td>\n",
              "      <td>(sugar, poultry, toilet paper, vegetables, lun...</td>\n",
              "    </tr>\n",
              "    <tr>\n",
              "      <th>19602</th>\n",
              "      <td>0.042142</td>\n",
              "      <td>(soap, vegetables, lunch meat, waffles, soda)</td>\n",
              "    </tr>\n",
              "    <tr>\n",
              "      <th>19603</th>\n",
              "      <td>0.040386</td>\n",
              "      <td>(poultry, vegetables, yogurt, milk, mixes)</td>\n",
              "    </tr>\n",
              "    <tr>\n",
              "      <th>19604</th>\n",
              "      <td>0.042142</td>\n",
              "      <td>(poultry, vegetables, sandwich loaves, yogurt,...</td>\n",
              "    </tr>\n",
              "  </tbody>\n",
              "</table>\n",
              "<p>19605 rows × 2 columns</p>\n",
              "</div>"
            ],
            "text/plain": [
              "        support                                           itemsets\n",
              "0      0.374890                                     (all- purpose)\n",
              "1      0.384548                                    (aluminum foil)\n",
              "2      0.385426                                           (bagels)\n",
              "3      0.374890                                             (beef)\n",
              "4      0.367867                                           (butter)\n",
              "...         ...                                                ...\n",
              "19600  0.040386  (laundry detergent, poultry, vegetables, spagh...\n",
              "19601  0.042142  (sugar, poultry, toilet paper, vegetables, lun...\n",
              "19602  0.042142      (soap, vegetables, lunch meat, waffles, soda)\n",
              "19603  0.040386         (poultry, vegetables, yogurt, milk, mixes)\n",
              "19604  0.042142  (poultry, vegetables, sandwich loaves, yogurt,...\n",
              "\n",
              "[19605 rows x 2 columns]"
            ]
          },
          "metadata": {
            "tags": []
          },
          "execution_count": 15
        }
      ]
    },
    {
      "cell_type": "markdown",
      "metadata": {
        "id": "5_NsEdX7ib80"
      },
      "source": [
        "### リスト14-14"
      ]
    },
    {
      "cell_type": "code",
      "metadata": {
        "colab": {
          "base_uri": "https://localhost:8080/",
          "height": 719
        },
        "id": "WB0Bv-vWanAg",
        "outputId": "5d0ffd7f-98e5-43d6-f555-ad1e6e71965d"
      },
      "source": [
        "from mlxtend.frequent_patterns import association_rules\n",
        "\n",
        "rules = association_rules(frequent_itemsets, metric = \"lift\", min_threshold = 1)\n",
        "rules = rules.sort_values('support', ascending = False).reset_index(drop=True)\n",
        "\n",
        "display(rules)"
      ],
      "execution_count": null,
      "outputs": [
        {
          "output_type": "display_data",
          "data": {
            "text/html": [
              "<div>\n",
              "<style scoped>\n",
              "    .dataframe tbody tr th:only-of-type {\n",
              "        vertical-align: middle;\n",
              "    }\n",
              "\n",
              "    .dataframe tbody tr th {\n",
              "        vertical-align: top;\n",
              "    }\n",
              "\n",
              "    .dataframe thead th {\n",
              "        text-align: right;\n",
              "    }\n",
              "</style>\n",
              "<table border=\"1\" class=\"dataframe\">\n",
              "  <thead>\n",
              "    <tr style=\"text-align: right;\">\n",
              "      <th></th>\n",
              "      <th>antecedents</th>\n",
              "      <th>consequents</th>\n",
              "      <th>antecedent support</th>\n",
              "      <th>consequent support</th>\n",
              "      <th>support</th>\n",
              "      <th>confidence</th>\n",
              "      <th>lift</th>\n",
              "      <th>leverage</th>\n",
              "      <th>conviction</th>\n",
              "    </tr>\n",
              "  </thead>\n",
              "  <tbody>\n",
              "    <tr>\n",
              "      <th>0</th>\n",
              "      <td>(vegetables)</td>\n",
              "      <td>(poultry)</td>\n",
              "      <td>0.739245</td>\n",
              "      <td>0.421422</td>\n",
              "      <td>0.331870</td>\n",
              "      <td>0.448931</td>\n",
              "      <td>1.065276</td>\n",
              "      <td>0.020336</td>\n",
              "      <td>1.049919</td>\n",
              "    </tr>\n",
              "    <tr>\n",
              "      <th>1</th>\n",
              "      <td>(poultry)</td>\n",
              "      <td>(vegetables)</td>\n",
              "      <td>0.421422</td>\n",
              "      <td>0.739245</td>\n",
              "      <td>0.331870</td>\n",
              "      <td>0.787500</td>\n",
              "      <td>1.065276</td>\n",
              "      <td>0.020336</td>\n",
              "      <td>1.227083</td>\n",
              "    </tr>\n",
              "    <tr>\n",
              "      <th>2</th>\n",
              "      <td>(eggs)</td>\n",
              "      <td>(vegetables)</td>\n",
              "      <td>0.389816</td>\n",
              "      <td>0.739245</td>\n",
              "      <td>0.326602</td>\n",
              "      <td>0.837838</td>\n",
              "      <td>1.133370</td>\n",
              "      <td>0.038433</td>\n",
              "      <td>1.607989</td>\n",
              "    </tr>\n",
              "    <tr>\n",
              "      <th>3</th>\n",
              "      <td>(vegetables)</td>\n",
              "      <td>(eggs)</td>\n",
              "      <td>0.739245</td>\n",
              "      <td>0.389816</td>\n",
              "      <td>0.326602</td>\n",
              "      <td>0.441805</td>\n",
              "      <td>1.133370</td>\n",
              "      <td>0.038433</td>\n",
              "      <td>1.093139</td>\n",
              "    </tr>\n",
              "    <tr>\n",
              "      <th>4</th>\n",
              "      <td>(vegetables)</td>\n",
              "      <td>(yogurt)</td>\n",
              "      <td>0.739245</td>\n",
              "      <td>0.384548</td>\n",
              "      <td>0.319579</td>\n",
              "      <td>0.432304</td>\n",
              "      <td>1.124188</td>\n",
              "      <td>0.035304</td>\n",
              "      <td>1.084123</td>\n",
              "    </tr>\n",
              "    <tr>\n",
              "      <th>...</th>\n",
              "      <td>...</td>\n",
              "      <td>...</td>\n",
              "      <td>...</td>\n",
              "      <td>...</td>\n",
              "      <td>...</td>\n",
              "      <td>...</td>\n",
              "      <td>...</td>\n",
              "      <td>...</td>\n",
              "      <td>...</td>\n",
              "    </tr>\n",
              "    <tr>\n",
              "      <th>197939</th>\n",
              "      <td>(toilet paper, sandwich loaves)</td>\n",
              "      <td>(ketchup, cheeses)</td>\n",
              "      <td>0.142230</td>\n",
              "      <td>0.160667</td>\n",
              "      <td>0.040386</td>\n",
              "      <td>0.283951</td>\n",
              "      <td>1.767321</td>\n",
              "      <td>0.017535</td>\n",
              "      <td>1.172172</td>\n",
              "    </tr>\n",
              "    <tr>\n",
              "      <th>197940</th>\n",
              "      <td>(toilet paper, cheeses)</td>\n",
              "      <td>(ketchup, sandwich loaves)</td>\n",
              "      <td>0.167691</td>\n",
              "      <td>0.152766</td>\n",
              "      <td>0.040386</td>\n",
              "      <td>0.240838</td>\n",
              "      <td>1.576518</td>\n",
              "      <td>0.014769</td>\n",
              "      <td>1.116012</td>\n",
              "    </tr>\n",
              "    <tr>\n",
              "      <th>197941</th>\n",
              "      <td>(ketchup)</td>\n",
              "      <td>(toilet paper, sandwich loaves, cheeses)</td>\n",
              "      <td>0.371378</td>\n",
              "      <td>0.069359</td>\n",
              "      <td>0.040386</td>\n",
              "      <td>0.108747</td>\n",
              "      <td>1.567885</td>\n",
              "      <td>0.014628</td>\n",
              "      <td>1.044194</td>\n",
              "    </tr>\n",
              "    <tr>\n",
              "      <th>197942</th>\n",
              "      <td>(sandwich loaves)</td>\n",
              "      <td>(ketchup, cheeses, toilet paper)</td>\n",
              "      <td>0.349429</td>\n",
              "      <td>0.074627</td>\n",
              "      <td>0.040386</td>\n",
              "      <td>0.115578</td>\n",
              "      <td>1.548744</td>\n",
              "      <td>0.014309</td>\n",
              "      <td>1.046303</td>\n",
              "    </tr>\n",
              "    <tr>\n",
              "      <th>197943</th>\n",
              "      <td>(aluminum foil, spaghetti sauce, lunch meat)</td>\n",
              "      <td>(poultry)</td>\n",
              "      <td>0.075505</td>\n",
              "      <td>0.421422</td>\n",
              "      <td>0.040386</td>\n",
              "      <td>0.534884</td>\n",
              "      <td>1.269234</td>\n",
              "      <td>0.008567</td>\n",
              "      <td>1.243942</td>\n",
              "    </tr>\n",
              "  </tbody>\n",
              "</table>\n",
              "<p>197944 rows × 9 columns</p>\n",
              "</div>"
            ],
            "text/plain": [
              "                                         antecedents  ... conviction\n",
              "0                                       (vegetables)  ...   1.049919\n",
              "1                                          (poultry)  ...   1.227083\n",
              "2                                             (eggs)  ...   1.607989\n",
              "3                                       (vegetables)  ...   1.093139\n",
              "4                                       (vegetables)  ...   1.084123\n",
              "...                                              ...  ...        ...\n",
              "197939               (toilet paper, sandwich loaves)  ...   1.172172\n",
              "197940                       (toilet paper, cheeses)  ...   1.116012\n",
              "197941                                     (ketchup)  ...   1.044194\n",
              "197942                             (sandwich loaves)  ...   1.046303\n",
              "197943  (aluminum foil, spaghetti sauce, lunch meat)  ...   1.243942\n",
              "\n",
              "[197944 rows x 9 columns]"
            ]
          },
          "metadata": {
            "tags": []
          }
        }
      ]
    }
  ]
}