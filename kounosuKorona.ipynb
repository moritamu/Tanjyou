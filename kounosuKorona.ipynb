{
  "nbformat": 4,
  "nbformat_minor": 0,
  "metadata": {
    "colab": {
      "name": "kounosuKorona.ipynb",
      "provenance": [],
      "authorship_tag": "ABX9TyOlTqcGh9nQ1wrdddJ91qGN",
      "include_colab_link": true
    },
    "kernelspec": {
      "name": "python3",
      "display_name": "Python 3"
    },
    "language_info": {
      "name": "python"
    }
  },
  "cells": [
    {
      "cell_type": "markdown",
      "metadata": {
        "id": "view-in-github",
        "colab_type": "text"
      },
      "source": [
        "<a href=\"https://colab.research.google.com/github/moritamu/Tanjyou/blob/main/kounosuKorona.ipynb\" target=\"_parent\"><img src=\"https://colab.research.google.com/assets/colab-badge.svg\" alt=\"Open In Colab\"/></a>"
      ]
    },
    {
      "cell_type": "code",
      "metadata": {
        "id": "QG9_EalX2KJv"
      },
      "source": [
        "import openpyxl\n",
        "import glob\n",
        "import os\n",
        "from openpyxl import Workbook"
      ],
      "execution_count": 1,
      "outputs": []
    },
    {
      "cell_type": "code",
      "metadata": {
        "id": "lWa7wHE22dRx"
      },
      "source": [
        "# 整理前のexcelファイルを保存しているパス\n",
        "folderpath_before = \"/Users/K/Desktop/整理前\"\n",
        "\n",
        "# データを抽出するシート名\n",
        "sheet_name = \"Sheet1\"\n",
        "\n",
        "# データを抽出するセル\n",
        "# タイトル\n",
        "row_num_title = 2 # 行\n",
        "col_num_title = 1 # 列\n",
        "# 値\n",
        "row_num_value = 2 # 行\n",
        "col_num_value = 2 # 列\n",
        "\n",
        "# 整理後のexcelファイルを保存するパス\n",
        "folderpath_after = \"/Users/K/Desktop/整理後\"\n",
        "# 整理後のexcelファイル名\n",
        "after_name = \"まとめ\""
      ],
      "execution_count": null,
      "outputs": []
    },
    {
      "cell_type": "code",
      "metadata": {
        "id": "1AuhZeJ02okx"
      },
      "source": [
        "wb = Workbook()\n",
        "\n",
        "files = sorted(glob.glob(folderpath_before + \"/*.xlsx\"))\n",
        "new_ws = wb.active\n",
        "count = 1\n",
        "\n",
        "# 整理後データを入れる空リストを用意\n",
        "new_ws_titles = []\n",
        "new_ws_values = []\n",
        "\n",
        "for file in files:\n",
        "    filename, file_extension = os.path.splitext(file)\n",
        "    opened_file = openpyxl.load_workbook(file)\n",
        "    sheet = opened_file[sheet_name]\n",
        "    new_ws_title = sheet.cell(row=row_num_title, column=col_num_title).value\n",
        "    new_ws_value = sheet.cell(row=row_num_value, column=col_num_value).value\n",
        "    new_ws_titles.append(new_ws_title)\n",
        "    new_ws_values.append(new_ws_value)\n",
        "    new_ws.cell(count, 1).value =  new_ws_title\n",
        "    new_ws.cell(count, 2).value =  new_ws_value\n",
        "    count += 1\n",
        "\n",
        "# データが抽出できているか確認    \n",
        "print(str(new_ws_titles))\n",
        "print(str(new_ws_values))\n",
        "\n",
        "# 整理したエクセルファイルを保存\n",
        "wb.save(folderpath_after + \"/\" + after_name + \".xlsx\")"
      ],
      "execution_count": null,
      "outputs": []
    }
  ]
}